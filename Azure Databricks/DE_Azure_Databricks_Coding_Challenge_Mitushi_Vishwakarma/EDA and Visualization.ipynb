{
 "cells": [
  {
   "cell_type": "code",
   "execution_count": 0,
   "metadata": {
    "application/vnd.databricks.v1+cell": {
     "cellMetadata": {
      "byteLimit": 2048000,
      "rowLimit": 10000
     },
     "inputWidgets": {},
     "nuid": "6482be4c-f067-47c9-b0ac-35c938b94601",
     "showTitle": false,
     "title": ""
    }
   },
   "outputs": [
    {
     "output_type": "display_data",
     "data": {
      "text/html": [
       "<style scoped>\n",
       "  .table-result-container {\n",
       "    max-height: 300px;\n",
       "    overflow: auto;\n",
       "  }\n",
       "  table, th, td {\n",
       "    border: 1px solid black;\n",
       "    border-collapse: collapse;\n",
       "  }\n",
       "  th, td {\n",
       "    padding: 5px;\n",
       "  }\n",
       "  th {\n",
       "    text-align: left;\n",
       "  }\n",
       "</style><div class='table-result-container'><table class='table-result'><thead style='background-color: white'><tr><th>_c0</th><th>_c1</th><th>_c2</th><th>_c3</th><th>_c4</th><th>_c5</th></tr></thead><tbody><tr><td>work_year</td><td>job_title</td><td>salary</td><td>employee_residence</td><td>work_setting</td><td>company_location</td></tr><tr><td>2023</td><td>Data DevOps Engineer</td><td>88000</td><td>Germany</td><td>Hybrid</td><td>Germany</td></tr><tr><td>2023</td><td>Data Architect</td><td>186000</td><td>United States</td><td>In-person</td><td>United States</td></tr><tr><td>2023</td><td>Data Architect</td><td>81800</td><td>null</td><td>In-person</td><td>United States</td></tr><tr><td>2023</td><td>Data Scientist</td><td>212000</td><td>United States</td><td>In-person</td><td>United States</td></tr><tr><td>2023</td><td>null</td><td>93300</td><td>United States</td><td>In-person</td><td>United States</td></tr><tr><td>2023</td><td>Data Scientist</td><td>130000</td><td>United States</td><td>Remote</td><td>United States</td></tr><tr><td>2023</td><td>Data Scientist</td><td>100000</td><td>United States</td><td>Remote</td><td>null</td></tr><tr><td>null</td><td>Machine Learning Researcher</td><td>null</td><td>United States</td><td>In-person</td><td>United States</td></tr><tr><td>2023</td><td>Machine Learning Researcher</td><td>138700</td><td>United States</td><td>null</td><td>United States</td></tr><tr><td>2023</td><td>Data Engineer</td><td>210000</td><td>United States</td><td>Remote</td><td>United States</td></tr><tr><td>2023</td><td>null</td><td>168000</td><td>United States</td><td>Remote</td><td>United States</td></tr><tr><td>2023</td><td>Machine Learning Engineer</td><td>224400</td><td>United States</td><td>In-person</td><td>United States</td></tr><tr><td>2023</td><td>Machine Learning Engineer</td><td>138700</td><td>United States</td><td>In-person</td><td>United States</td></tr><tr><td>2023</td><td>Data Scientist</td><td>35000</td><td>United Kingdom</td><td>In-person</td><td>United Kingdom</td></tr><tr><td>2023</td><td>Data Scientist</td><td>30000</td><td>United Kingdom</td><td>In-person</td><td>United Kingdom</td></tr><tr><td>2023</td><td>Data Analyst</td><td>95000</td><td>null</td><td>In-person</td><td>United States</td></tr><tr><td>2023</td><td>Data Analyst</td><td>75000</td><td>United States</td><td>In-person</td><td>United States</td></tr><tr><td>2023</td><td>Data Scientist</td><td>300000</td><td>United States</td><td>In-person</td><td>United States</td></tr><tr><td>2023</td><td>null</td><td>234000</td><td>United States</td><td>In-person</td><td>United States</td></tr></tbody></table></div>"
      ]
     },
     "metadata": {
      "application/vnd.databricks.v1+output": {
       "addedWidgets": {},
       "aggData": [],
       "aggError": "",
       "aggOverflow": false,
       "aggSchema": [],
       "aggSeriesLimitReached": false,
       "aggType": "",
       "arguments": {},
       "columnCustomDisplayInfos": {},
       "data": [
        [
         "work_year",
         "job_title",
         "salary",
         "employee_residence",
         "work_setting",
         "company_location"
        ],
        [
         "2023",
         "Data DevOps Engineer",
         "88000",
         "Germany",
         "Hybrid",
         "Germany"
        ],
        [
         "2023",
         "Data Architect",
         "186000",
         "United States",
         "In-person",
         "United States"
        ],
        [
         "2023",
         "Data Architect",
         "81800",
         null,
         "In-person",
         "United States"
        ],
        [
         "2023",
         "Data Scientist",
         "212000",
         "United States",
         "In-person",
         "United States"
        ],
        [
         "2023",
         null,
         "93300",
         "United States",
         "In-person",
         "United States"
        ],
        [
         "2023",
         "Data Scientist",
         "130000",
         "United States",
         "Remote",
         "United States"
        ],
        [
         "2023",
         "Data Scientist",
         "100000",
         "United States",
         "Remote",
         null
        ],
        [
         null,
         "Machine Learning Researcher",
         null,
         "United States",
         "In-person",
         "United States"
        ],
        [
         "2023",
         "Machine Learning Researcher",
         "138700",
         "United States",
         null,
         "United States"
        ],
        [
         "2023",
         "Data Engineer",
         "210000",
         "United States",
         "Remote",
         "United States"
        ],
        [
         "2023",
         null,
         "168000",
         "United States",
         "Remote",
         "United States"
        ],
        [
         "2023",
         "Machine Learning Engineer",
         "224400",
         "United States",
         "In-person",
         "United States"
        ],
        [
         "2023",
         "Machine Learning Engineer",
         "138700",
         "United States",
         "In-person",
         "United States"
        ],
        [
         "2023",
         "Data Scientist",
         "35000",
         "United Kingdom",
         "In-person",
         "United Kingdom"
        ],
        [
         "2023",
         "Data Scientist",
         "30000",
         "United Kingdom",
         "In-person",
         "United Kingdom"
        ],
        [
         "2023",
         "Data Analyst",
         "95000",
         null,
         "In-person",
         "United States"
        ],
        [
         "2023",
         "Data Analyst",
         "75000",
         "United States",
         "In-person",
         "United States"
        ],
        [
         "2023",
         "Data Scientist",
         "300000",
         "United States",
         "In-person",
         "United States"
        ],
        [
         "2023",
         null,
         "234000",
         "United States",
         "In-person",
         "United States"
        ]
       ],
       "datasetInfos": [],
       "dbfsResultPath": null,
       "isJsonSchema": true,
       "metadata": {},
       "overflow": false,
       "plotOptions": {
        "customPlotOptions": {},
        "displayType": "table",
        "pivotAggregation": null,
        "pivotColumns": null,
        "xColumns": null,
        "yColumns": null
       },
       "removedWidgets": [],
       "schema": [
        {
         "metadata": "{}",
         "name": "_c0",
         "type": "\"string\""
        },
        {
         "metadata": "{}",
         "name": "_c1",
         "type": "\"string\""
        },
        {
         "metadata": "{}",
         "name": "_c2",
         "type": "\"string\""
        },
        {
         "metadata": "{}",
         "name": "_c3",
         "type": "\"string\""
        },
        {
         "metadata": "{}",
         "name": "_c4",
         "type": "\"string\""
        },
        {
         "metadata": "{}",
         "name": "_c5",
         "type": "\"string\""
        }
       ],
       "type": "table"
      }
     },
     "output_type": "display_data"
    },
    {
     "output_type": "display_data",
     "data": {
      "text/plain": [
       "Databricks visualization. Run in Databricks to view."
      ]
     },
     "metadata": {
      "application/vnd.databricks.v1.subcommand+json": {
       "baseErrorDetails": null,
       "bindings": {},
       "collapsed": false,
       "command": "%python\n__backend_agg_display_orig = display\n__backend_agg_dfs = []\ndef __backend_agg_display_new(df):\n    __backend_agg_df_modules = [\"pandas.core.frame\", \"databricks.koalas.frame\", \"pyspark.sql.dataframe\", \"pyspark.pandas.frame\", \"pyspark.sql.connect.dataframe\"]\n    if (type(df).__module__ in __backend_agg_df_modules and type(df).__name__ == 'DataFrame') or isinstance(df, list):\n        __backend_agg_dfs.append(df)\n\ndisplay = __backend_agg_display_new\n\ndef __backend_agg_user_code_fn():\n    import base64\n    exec(base64.standard_b64decode(\"IyBGaWxlIGxvY2F0aW9uIGFuZCB0eXBlCmZpbGVfbG9jYXRpb24gPSAiL0ZpbGVTdG9yZS90YWJsZXMvam9ic19pbl9kYXRhX19fQ29weS5jc3YiCmZpbGVfdHlwZSA9ICJjc3YiCgojIENTViBvcHRpb25zCmluZmVyX3NjaGVtYSA9ICJmYWxzZSIKZmlyc3Rfcm93X2lzX2hlYWRlciA9ICJmYWxzZSIKZGVsaW1pdGVyID0gIiwiCgojIFRoZSBhcHBsaWVkIG9wdGlvbnMgYXJlIGZvciBDU1YgZmlsZXMuIEZvciBvdGhlciBmaWxlIHR5cGVzLCB0aGVzZSB3aWxsIGJlIGlnbm9yZWQuCmRmID0gc3BhcmsucmVhZC5mb3JtYXQoZmlsZV90eXBlKSBcCiAgLm9wdGlvbigiaW5mZXJTY2hlbWEiLCBpbmZlcl9zY2hlbWEpIFwKICAub3B0aW9uKCJoZWFkZXIiLCBmaXJzdF9yb3dfaXNfaGVhZGVyKSBcCiAgLm9wdGlvbigic2VwIiwgZGVsaW1pdGVyKSBcCiAgLmxvYWQoZmlsZV9sb2NhdGlvbikKCmRpc3BsYXkoZGYp\").decode())\n\ntry:\n    # run user code\n    __backend_agg_user_code_fn()\n\n    #reset display function\n    display = __backend_agg_display_orig\n\n    if len(__backend_agg_dfs) > 0:\n        # create a temp view\n        if type(__backend_agg_dfs[0]).__module__ == \"databricks.koalas.frame\":\n            # koalas dataframe\n            __backend_agg_dfs[0].to_spark().createOrReplaceTempView(\"DatabricksViewecf8f41\")\n        elif type(__backend_agg_dfs[0]).__module__ == \"pandas.core.frame\" or isinstance(__backend_agg_dfs[0], list):\n            # pandas dataframe\n            spark.createDataFrame(__backend_agg_dfs[0]).createOrReplaceTempView(\"DatabricksViewecf8f41\")\n        else:\n            __backend_agg_dfs[0].createOrReplaceTempView(\"DatabricksViewecf8f41\")\n        #run backend agg\n        display(spark.sql(\"\"\"WITH q AS (select * from DatabricksViewecf8f41) SELECT `_c1`,COUNT(*) `column_403ea9d415` FROM q GROUP BY `_c1`\"\"\"))\n    else:\n        displayHTML(\"dataframe no longer exists. If you're using dataframe.display(), use display(dataframe) instead.\")\n\n\nfinally:\n    spark.sql(\"drop view if exists DatabricksViewecf8f41\")\n    display = __backend_agg_display_orig\n    del __backend_agg_display_new\n    del __backend_agg_display_orig\n    del __backend_agg_dfs\n    del __backend_agg_user_code_fn\n\n",
       "commandTitle": "Visualization 1",
       "commandType": "auto",
       "commandVersion": 0,
       "commentThread": [],
       "commentsVisible": false,
       "contentSha256Hex": null,
       "customPlotOptions": {
        "redashChart": [
         {
          "key": "type",
          "value": "CHART"
         },
         {
          "key": "options",
          "value": {
           "alignYAxesAtZero": true,
           "coefficient": 1,
           "columnConfigurationMap": {
            "x": {
             "column": "_c1",
             "id": "column_403ea9d414"
            },
            "y": [
             {
              "column": "*",
              "id": "column_403ea9d415",
              "transform": "COUNT"
             }
            ]
           },
           "dateTimeFormat": "DD/MM/YYYY HH:mm",
           "direction": {
            "type": "counterclockwise"
           },
           "error_y": {
            "type": "data",
            "visible": true
           },
           "globalSeriesType": "pie",
           "isAggregationOn": true,
           "legend": {
            "traceorder": "normal"
           },
           "missingValuesAsZero": true,
           "numberFormat": "0,0.[00000]",
           "percentFormat": "0[.]00%",
           "series": {
            "error_y": {
             "type": "data",
             "visible": true
            },
            "stacking": null
           },
           "seriesOptions": {
            "column_403ea9d415": {
             "type": "pie",
             "yAxis": 0
            }
           },
           "showDataLabels": true,
           "sizemode": "diameter",
           "sortX": true,
           "sortY": true,
           "swappedAxes": false,
           "textFormat": "",
           "useAggregationsUi": true,
           "valuesOptions": {},
           "version": 2,
           "xAxis": {
            "labels": {
             "enabled": true
            },
            "type": "-"
           },
           "yAxis": [
            {
             "type": "-"
            },
            {
             "opposite": true,
             "type": "-"
            }
           ]
          }
         }
        ]
       },
       "datasetPreviewNameToCmdIdMap": {},
       "diffDeletes": [],
       "diffInserts": [],
       "displayType": "redashChart",
       "error": null,
       "errorDetails": null,
       "errorSummary": null,
       "errorTraceType": null,
       "finishTime": 0,
       "globalVars": {},
       "guid": "",
       "height": "auto",
       "hideCommandCode": false,
       "hideCommandResult": false,
       "iPythonMetadata": null,
       "inputWidgets": {},
       "isLockedInExamMode": false,
       "latestUser": "a user",
       "latestUserId": null,
       "listResultMetadata": null,
       "metadata": {},
       "nuid": "0b9b0ccf-1ab1-4831-a44d-48ba702d51a2",
       "origId": 0,
       "parentHierarchy": [],
       "pivotAggregation": null,
       "pivotColumns": null,
       "position": 4.0,
       "resultDbfsErrorMessage": null,
       "resultDbfsStatus": "INLINED_IN_TREE",
       "results": null,
       "showCommandTitle": false,
       "startTime": 0,
       "state": "input",
       "streamStates": {},
       "subcommandOptions": {
        "queryPlan": {
         "groups": [
          {
           "column": "_c1",
           "type": "column"
          }
         ],
         "selects": [
          {
           "column": "_c1",
           "type": "column"
          },
          {
           "alias": "column_403ea9d415",
           "args": [
            {
             "column": "*",
             "type": "column"
            }
           ],
           "function": "COUNT",
           "type": "function"
          }
         ]
        }
       },
       "submitTime": 0,
       "subtype": "tableResultSubCmd.visualization",
       "tableResultIndex": 0,
       "useConsistentColors": false,
       "version": "CommandV1",
       "width": "auto",
       "workflows": [],
       "xColumns": null,
       "yColumns": null
      }
     },
     "output_type": "display_data"
    },
    {
     "output_type": "display_data",
     "data": {
      "text/plain": [
       "Databricks visualization. Run in Databricks to view."
      ]
     },
     "metadata": {
      "application/vnd.databricks.v1.subcommand+json": {
       "baseErrorDetails": null,
       "bindings": {},
       "collapsed": false,
       "command": "%python\n__backend_agg_display_orig = display\n__backend_agg_dfs = []\ndef __backend_agg_display_new(df):\n    __backend_agg_df_modules = [\"pandas.core.frame\", \"databricks.koalas.frame\", \"pyspark.sql.dataframe\", \"pyspark.pandas.frame\", \"pyspark.sql.connect.dataframe\"]\n    if (type(df).__module__ in __backend_agg_df_modules and type(df).__name__ == 'DataFrame') or isinstance(df, list):\n        __backend_agg_dfs.append(df)\n\ndisplay = __backend_agg_display_new\n\ndef __backend_agg_user_code_fn():\n    import base64\n    exec(base64.standard_b64decode(\"IyBGaWxlIGxvY2F0aW9uIGFuZCB0eXBlCmZpbGVfbG9jYXRpb24gPSAiL0ZpbGVTdG9yZS90YWJsZXMvam9ic19pbl9kYXRhX19fQ29weS5jc3YiCmZpbGVfdHlwZSA9ICJjc3YiCgojIENTViBvcHRpb25zCmluZmVyX3NjaGVtYSA9ICJmYWxzZSIKZmlyc3Rfcm93X2lzX2hlYWRlciA9ICJmYWxzZSIKZGVsaW1pdGVyID0gIiwiCgojIFRoZSBhcHBsaWVkIG9wdGlvbnMgYXJlIGZvciBDU1YgZmlsZXMuIEZvciBvdGhlciBmaWxlIHR5cGVzLCB0aGVzZSB3aWxsIGJlIGlnbm9yZWQuCmRmID0gc3BhcmsucmVhZC5mb3JtYXQoZmlsZV90eXBlKSBcCiAgLm9wdGlvbigiaW5mZXJTY2hlbWEiLCBpbmZlcl9zY2hlbWEpIFwKICAub3B0aW9uKCJoZWFkZXIiLCBmaXJzdF9yb3dfaXNfaGVhZGVyKSBcCiAgLm9wdGlvbigic2VwIiwgZGVsaW1pdGVyKSBcCiAgLmxvYWQoZmlsZV9sb2NhdGlvbikKCmRpc3BsYXkoZGYp\").decode())\n\ntry:\n    # run user code\n    __backend_agg_user_code_fn()\n\n    #reset display function\n    display = __backend_agg_display_orig\n\n    if len(__backend_agg_dfs) > 0:\n        # create a temp view\n        if type(__backend_agg_dfs[0]).__module__ == \"databricks.koalas.frame\":\n            # koalas dataframe\n            __backend_agg_dfs[0].to_spark().createOrReplaceTempView(\"DatabricksViewfb9b5b8\")\n        elif type(__backend_agg_dfs[0]).__module__ == \"pandas.core.frame\" or isinstance(__backend_agg_dfs[0], list):\n            # pandas dataframe\n            spark.createDataFrame(__backend_agg_dfs[0]).createOrReplaceTempView(\"DatabricksViewfb9b5b8\")\n        else:\n            __backend_agg_dfs[0].createOrReplaceTempView(\"DatabricksViewfb9b5b8\")\n        #run backend agg\n        display(spark.sql(\"\"\"WITH q AS (select * from DatabricksViewfb9b5b8) SELECT `_c1`,COUNT(`_c2`) `column_403ea9d422`,`_c1` FROM q GROUP BY `_c1`\"\"\"))\n    else:\n        displayHTML(\"dataframe no longer exists. If you're using dataframe.display(), use display(dataframe) instead.\")\n\n\nfinally:\n    spark.sql(\"drop view if exists DatabricksViewfb9b5b8\")\n    display = __backend_agg_display_orig\n    del __backend_agg_display_new\n    del __backend_agg_display_orig\n    del __backend_agg_dfs\n    del __backend_agg_user_code_fn\n\n",
       "commandTitle": "Visualization 2",
       "commandType": "auto",
       "commandVersion": 0,
       "commentThread": [],
       "commentsVisible": false,
       "contentSha256Hex": null,
       "customPlotOptions": {
        "redashChart": [
         {
          "key": "type",
          "value": "CHART"
         },
         {
          "key": "options",
          "value": {
           "alignYAxesAtZero": true,
           "coefficient": 1,
           "columnConfigurationMap": {
            "series": {
             "column": "_c1",
             "id": "column_403ea9d424"
            },
            "x": {
             "column": "_c1",
             "id": "column_403ea9d417"
            },
            "y": [
             {
              "column": "_c2",
              "id": "column_403ea9d422",
              "transform": "COUNT"
             }
            ]
           },
           "dateTimeFormat": "DD/MM/YYYY HH:mm",
           "direction": {
            "type": "counterclockwise"
           },
           "error_y": {
            "type": "data",
            "visible": true
           },
           "globalSeriesType": "column",
           "isAggregationOn": true,
           "legend": {
            "traceorder": "normal"
           },
           "missingValuesAsZero": true,
           "numberFormat": "0,0.[00000]",
           "percentFormat": "0[.]00%",
           "series": {
            "error_y": {
             "type": "data",
             "visible": true
            },
            "stacking": null
           },
           "seriesOptions": {
            "_c2": {
             "type": "column",
             "yAxis": 0
            },
            "column_403ea9d418": {
             "color": "#FFAB00",
             "type": "column",
             "yAxis": 0
            },
            "column_403ea9d422": {
             "type": "column",
             "yAxis": 0
            }
           },
           "showDataLabels": false,
           "sizemode": "diameter",
           "sortX": true,
           "sortY": true,
           "swappedAxes": false,
           "textFormat": "",
           "useAggregationsUi": true,
           "valuesOptions": {
            "Data Analyst": {
             "color": "#919191"
            },
            "Data Architect": {
             "color": "#00A972"
            },
            "Data Engineer": {
             "color": "#99DDB4"
            },
            "Data Scientist": {
             "color": "#00A972"
            },
            "Machine Learning Engineer": {
             "color": "#FCA4A1"
            },
            "Machine Learning Researcher": {
             "color": "#AB4057"
            },
            "null": {
             "color": "#8BCAE7"
            }
           },
           "version": 2,
           "xAxis": {
            "labels": {
             "enabled": true
            },
            "type": "-"
           },
           "yAxis": [
            {
             "type": "-"
            },
            {
             "opposite": true,
             "type": "-"
            }
           ]
          }
         }
        ]
       },
       "datasetPreviewNameToCmdIdMap": {},
       "diffDeletes": [],
       "diffInserts": [],
       "displayType": "redashChart",
       "error": null,
       "errorDetails": null,
       "errorSummary": null,
       "errorTraceType": null,
       "finishTime": 0,
       "globalVars": {},
       "guid": "",
       "height": "auto",
       "hideCommandCode": false,
       "hideCommandResult": false,
       "iPythonMetadata": null,
       "inputWidgets": {},
       "isLockedInExamMode": false,
       "latestUser": "a user",
       "latestUserId": null,
       "listResultMetadata": null,
       "metadata": {},
       "nuid": "eb659b7a-4b86-402f-9141-3d6b52677469",
       "origId": 0,
       "parentHierarchy": [],
       "pivotAggregation": null,
       "pivotColumns": null,
       "position": 5.0,
       "resultDbfsErrorMessage": null,
       "resultDbfsStatus": "INLINED_IN_TREE",
       "results": null,
       "showCommandTitle": false,
       "startTime": 0,
       "state": "input",
       "streamStates": {},
       "subcommandOptions": {
        "queryPlan": {
         "groups": [
          {
           "column": "_c1",
           "type": "column"
          },
          {
           "column": "_c1",
           "type": "column"
          }
         ],
         "selects": [
          {
           "column": "_c1",
           "type": "column"
          },
          {
           "alias": "column_403ea9d422",
           "args": [
            {
             "column": "_c2",
             "type": "column"
            }
           ],
           "function": "COUNT",
           "type": "function"
          },
          {
           "column": "_c1",
           "type": "column"
          }
         ]
        }
       },
       "submitTime": 0,
       "subtype": "tableResultSubCmd.visualization",
       "tableResultIndex": 0,
       "useConsistentColors": false,
       "version": "CommandV1",
       "width": "auto",
       "workflows": [],
       "xColumns": null,
       "yColumns": null
      }
     },
     "output_type": "display_data"
    }
   ],
   "source": [
    "# File location and type\n",
    "file_location = \"/FileStore/tables/jobs_in_data___Copy.csv\"\n",
    "file_type = \"csv\"\n",
    "\n",
    "# CSV options\n",
    "infer_schema = \"false\"\n",
    "first_row_is_header = \"false\"\n",
    "delimiter = \",\"\n",
    "\n",
    "# The applied options are for CSV files. For other file types, these will be ignored.\n",
    "df = spark.read.format(file_type) \\\n",
    "  .option(\"inferSchema\", infer_schema) \\\n",
    "  .option(\"header\", first_row_is_header) \\\n",
    "  .option(\"sep\", delimiter) \\\n",
    "  .load(file_location)\n",
    "\n",
    "display(df)"
   ]
  },
  {
   "cell_type": "code",
   "execution_count": 0,
   "metadata": {
    "application/vnd.databricks.v1+cell": {
     "cellMetadata": {},
     "inputWidgets": {},
     "nuid": "bd82bb99-1479-4d5c-be10-8c36df0f1d44",
     "showTitle": false,
     "title": ""
    }
   },
   "outputs": [
    {
     "output_type": "display_data",
     "data": {
      "text/html": [
       "<style scoped>\n",
       "  .ansiout {\n",
       "    display: block;\n",
       "    unicode-bidi: embed;\n",
       "    white-space: pre-wrap;\n",
       "    word-wrap: break-word;\n",
       "    word-break: break-all;\n",
       "    font-family: \"Menlo\", \"Monaco\", \"Consolas\", \"Ubuntu Mono\", \"Source Code Pro\", monospace;\n",
       "    font-size: 13px;\n",
       "    color: #555;\n",
       "    margin-left: 4px;\n",
       "    line-height: 19px;\n",
       "  }\n",
       "</style>"
      ]
     },
     "metadata": {
      "application/vnd.databricks.v1+output": {
       "arguments": {},
       "data": "",
       "errorSummary": "",
       "errorTraceType": null,
       "metadata": {},
       "type": "ipynbError"
      }
     },
     "output_type": "display_data"
    }
   ],
   "source": [
    "# Create a view or table\n",
    "\n",
    "temp_table_name = \"jobs_in_data___Copy_csv\"\n",
    "\n",
    "df.createOrReplaceTempView(temp_table_name)"
   ]
  },
  {
   "cell_type": "code",
   "execution_count": 0,
   "metadata": {
    "application/vnd.databricks.v1+cell": {
     "cellMetadata": {},
     "inputWidgets": {},
     "nuid": "b5f66379-6f7f-42ec-8e82-d0e0926a1721",
     "showTitle": false,
     "title": ""
    }
   },
   "outputs": [
    {
     "output_type": "display_data",
     "data": {
      "text/html": [
       "<style scoped>\n",
       "  .ansiout {\n",
       "    display: block;\n",
       "    unicode-bidi: embed;\n",
       "    white-space: pre-wrap;\n",
       "    word-wrap: break-word;\n",
       "    word-break: break-all;\n",
       "    font-family: \"Menlo\", \"Monaco\", \"Consolas\", \"Ubuntu Mono\", \"Source Code Pro\", monospace;\n",
       "    font-size: 13px;\n",
       "    color: #555;\n",
       "    margin-left: 4px;\n",
       "    line-height: 19px;\n",
       "  }\n",
       "</style>"
      ]
     },
     "metadata": {
      "application/vnd.databricks.v1+output": {
       "arguments": {},
       "data": "",
       "errorSummary": "",
       "errorTraceType": null,
       "metadata": {},
       "type": "ipynbError"
      }
     },
     "output_type": "display_data"
    }
   ],
   "source": [
    "%sql\n",
    "\n",
    "/* Query the created temp table in a SQL cell */\n",
    "\n",
    "select * from `jobs_in_data___Copy_csv`"
   ]
  },
  {
   "cell_type": "code",
   "execution_count": 0,
   "metadata": {
    "application/vnd.databricks.v1+cell": {
     "cellMetadata": {},
     "inputWidgets": {},
     "nuid": "db9631f6-bb4a-42ca-8a3c-0d48af932331",
     "showTitle": false,
     "title": ""
    }
   },
   "outputs": [
    {
     "output_type": "display_data",
     "data": {
      "text/html": [
       "<style scoped>\n",
       "  .ansiout {\n",
       "    display: block;\n",
       "    unicode-bidi: embed;\n",
       "    white-space: pre-wrap;\n",
       "    word-wrap: break-word;\n",
       "    word-break: break-all;\n",
       "    font-family: \"Menlo\", \"Monaco\", \"Consolas\", \"Ubuntu Mono\", \"Source Code Pro\", monospace;\n",
       "    font-size: 13px;\n",
       "    color: #555;\n",
       "    margin-left: 4px;\n",
       "    line-height: 19px;\n",
       "  }\n",
       "</style>"
      ]
     },
     "metadata": {
      "application/vnd.databricks.v1+output": {
       "arguments": {},
       "data": "",
       "errorSummary": "",
       "errorTraceType": null,
       "metadata": {},
       "type": "ipynbError"
      }
     },
     "output_type": "display_data"
    }
   ],
   "source": [
    "# With this registered as a temp view, it will only be available to this particular notebook. If you'd like other users to be able to query this table, you can also create a table from the DataFrame.\n",
    "# Once saved, this table will persist across cluster restarts as well as allow various users across different notebooks to query this data.\n",
    "# To do so, choose your table name and uncomment the bottom line.\n",
    "\n",
    "permanent_table_name = \"jobs_in_data___Copy_csv\"\n",
    "\n",
    "# df.write.format(\"parquet\").saveAsTable(permanent_table_name)"
   ]
  }
 ],
 "metadata": {
  "application/vnd.databricks.v1+notebook": {
   "dashboards": [],
   "language": "python",
   "notebookMetadata": {
    "pythonIndentUnit": 4
   },
   "notebookName": "EDA and Visualization",
   "widgets": {}
  }
 },
 "nbformat": 4,
 "nbformat_minor": 0
}

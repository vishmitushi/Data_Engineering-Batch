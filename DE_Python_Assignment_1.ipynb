{
 "cells": [
  {
   "cell_type": "markdown",
   "id": "50b97246",
   "metadata": {},
   "source": [
    "# Variables "
   ]
  },
  {
   "cell_type": "code",
   "execution_count": 5,
   "id": "f2c9f41f",
   "metadata": {},
   "outputs": [],
   "source": [
    "x = 10 \n",
    "name = \"John\"\n",
    "Bool = True\n",
    "a = 10.50"
   ]
  },
  {
   "cell_type": "markdown",
   "id": "7a7afadb",
   "metadata": {},
   "source": [
    "# Data Types "
   ]
  },
  {
   "cell_type": "markdown",
   "id": "4c6de387",
   "metadata": {},
   "source": [
    "1. Numeric : int, float,complex"
   ]
  },
  {
   "cell_type": "code",
   "execution_count": 17,
   "id": "a7307f0b",
   "metadata": {},
   "outputs": [
    {
     "name": "stdout",
     "output_type": "stream",
     "text": [
      "<class 'int'>\n"
     ]
    }
   ],
   "source": [
    "# int: Integer data type represents whole numbers.\n",
    "age = 25 \n",
    "print(type(age))"
   ]
  },
  {
   "cell_type": "code",
   "execution_count": 13,
   "id": "ec6ddda6",
   "metadata": {},
   "outputs": [
    {
     "name": "stdout",
     "output_type": "stream",
     "text": [
      "<class 'float'>\n"
     ]
    }
   ],
   "source": [
    "# float: Floating-point data type represents decimal numbers.\n",
    "temp = 98.6 \n",
    "print(type(temp))"
   ]
  },
  {
   "cell_type": "code",
   "execution_count": 14,
   "id": "320ce0db",
   "metadata": {},
   "outputs": [
    {
     "name": "stdout",
     "output_type": "stream",
     "text": [
      "<class 'complex'>\n"
     ]
    }
   ],
   "source": [
    "# complex : Complex numbers have a real and imaginary part.\n",
    "complex_num = 2 + 3j \n",
    "print(type(complex_num))"
   ]
  },
  {
   "cell_type": "markdown",
   "id": "5fae05e4",
   "metadata": {},
   "source": [
    "2. Text : str"
   ]
  },
  {
   "cell_type": "code",
   "execution_count": 15,
   "id": "0d9853ac",
   "metadata": {},
   "outputs": [
    {
     "name": "stdout",
     "output_type": "stream",
     "text": [
      "<class 'str'>\n"
     ]
    }
   ],
   "source": [
    " # string : String data type represents sequences of characters.\n",
    "name = \"Alice\"\n",
    "print(type(name))"
   ]
  },
  {
   "cell_type": "markdown",
   "id": "5e17b1ac",
   "metadata": {},
   "source": [
    "3. Boolean : bool"
   ]
  },
  {
   "cell_type": "code",
   "execution_count": 16,
   "id": "2e710712",
   "metadata": {},
   "outputs": [
    {
     "name": "stdout",
     "output_type": "stream",
     "text": [
      "<class 'bool'>\n"
     ]
    }
   ],
   "source": [
    "# Boolean : Boolean data type represents truth values, either True or False.\n",
    "Boolean = True \n",
    "print(type(Boolean))\n"
   ]
  },
  {
   "cell_type": "markdown",
   "id": "e9ce9ce5",
   "metadata": {},
   "source": [
    "4. Sequence : list, tuple"
   ]
  },
  {
   "cell_type": "code",
   "execution_count": 18,
   "id": "4c4eb4e7",
   "metadata": {},
   "outputs": [
    {
     "name": "stdout",
     "output_type": "stream",
     "text": [
      "<class 'list'>\n"
     ]
    }
   ],
   "source": [
    "# list : A list is an ordered collection that can contain elements of different data types.\n",
    "my_list = [1, 2, \"three\", 4.0]\n",
    "print(type(my_list))"
   ]
  },
  {
   "cell_type": "code",
   "execution_count": 19,
   "id": "4c8645c3",
   "metadata": {},
   "outputs": [
    {
     "name": "stdout",
     "output_type": "stream",
     "text": [
      "<class 'tuple'>\n"
     ]
    }
   ],
   "source": [
    "# tuple : A tuple is an ordered, immutable collection.\n",
    "my_tuple = (1, 2, \"three\", 4.0)\n",
    "print(type(my_tuple))"
   ]
  },
  {
   "cell_type": "markdown",
   "id": "aab6aa0b",
   "metadata": {},
   "source": [
    "# Operators"
   ]
  },
  {
   "cell_type": "markdown",
   "id": "73c7fa58",
   "metadata": {},
   "source": [
    "1. Arithmetic operators\n"
   ]
  },
  {
   "cell_type": "code",
   "execution_count": 20,
   "id": "666074b4",
   "metadata": {},
   "outputs": [
    {
     "name": "stdout",
     "output_type": "stream",
     "text": [
      "13\n",
      "7\n",
      "30\n",
      "3.3333333333333335\n",
      "1\n",
      "1000\n",
      "3\n"
     ]
    }
   ],
   "source": [
    "a = 10\n",
    "b = 3\n",
    "print(a + b)\n",
    "print(a - b)\n",
    "print(a * b)\n",
    "print(a / b)\n",
    "print(a % b)\n",
    "print(a ** b)\n",
    "print(a // b)"
   ]
  },
  {
   "cell_type": "markdown",
   "id": "7bcb53af",
   "metadata": {},
   "source": [
    "2. Assignment operators"
   ]
  },
  {
   "cell_type": "code",
   "execution_count": 22,
   "id": "4a97ec9a",
   "metadata": {},
   "outputs": [
    {
     "name": "stdout",
     "output_type": "stream",
     "text": [
      "8 4\n"
     ]
    }
   ],
   "source": [
    "x = 5\n",
    "y = 7\n",
    "x += 3\n",
    "y -= 3\n",
    "print(x,y)"
   ]
  },
  {
   "cell_type": "markdown",
   "id": "f8a81c27",
   "metadata": {},
   "source": [
    "3. Comparison operators"
   ]
  },
  {
   "cell_type": "code",
   "execution_count": 23,
   "id": "c4d297dc",
   "metadata": {},
   "outputs": [
    {
     "name": "stdout",
     "output_type": "stream",
     "text": [
      "False\n",
      "True\n",
      "False\n",
      "True\n"
     ]
    }
   ],
   "source": [
    "x = 5\n",
    "y = 3\n",
    "print(x == y)\n",
    "print(x != y)\n",
    "print(x <= y)\n",
    "print(x >= y)"
   ]
  },
  {
   "cell_type": "markdown",
   "id": "3012098a",
   "metadata": {},
   "source": [
    "4. Logical Operators"
   ]
  },
  {
   "cell_type": "code",
   "execution_count": 24,
   "id": "4a2693a5",
   "metadata": {},
   "outputs": [
    {
     "name": "stdout",
     "output_type": "stream",
     "text": [
      "False\n",
      "True\n",
      "False\n"
     ]
    }
   ],
   "source": [
    "a = True\n",
    "b = False\n",
    "print(a and b) \n",
    "print(a or b) \n",
    "print(not a) "
   ]
  },
  {
   "cell_type": "markdown",
   "id": "3091cb46",
   "metadata": {},
   "source": [
    "5. Bitwise Operators"
   ]
  },
  {
   "cell_type": "code",
   "execution_count": 25,
   "id": "5522dc7c",
   "metadata": {},
   "outputs": [
    {
     "name": "stdout",
     "output_type": "stream",
     "text": [
      "0\n",
      "14\n",
      "-11\n",
      "14\n",
      "2\n",
      "40\n"
     ]
    }
   ],
   "source": [
    "a = 10\n",
    "b = 4\n",
    "print(a & b) \n",
    "print(a | b) \n",
    "print(~a) \n",
    "print(a ^ b) \n",
    "print(a >> 2) \n",
    "print(a << 2) "
   ]
  },
  {
   "cell_type": "markdown",
   "id": "8a788e20",
   "metadata": {},
   "source": [
    "# Control Structure"
   ]
  },
  {
   "cell_type": "code",
   "execution_count": 29,
   "id": "44dc6e65",
   "metadata": {},
   "outputs": [
    {
     "name": "stdout",
     "output_type": "stream",
     "text": [
      "Outside if\n"
     ]
    }
   ],
   "source": [
    "# if\n",
    "\n",
    "i = 10\n",
    "  \n",
    "if (i > 15): \n",
    "    print(\"10 is less than 15\") \n",
    "    \n",
    "print(\"Outside if\") "
   ]
  },
  {
   "cell_type": "code",
   "execution_count": 30,
   "id": "47a1c370",
   "metadata": {},
   "outputs": [
    {
     "name": "stdout",
     "output_type": "stream",
     "text": [
      "else Block\n",
      "20 is greater than 15\n",
      "not in if and not in else Block\n"
     ]
    }
   ],
   "source": [
    "# if-else\n",
    "\n",
    "i = 20\n",
    "if (i < 15): \n",
    "    print(\"if Block\")\n",
    "    print(f\"{i} is smaller than 15\") \n",
    "else: \n",
    "    print(\"else Block\")\n",
    "    print(f\"{i} is greater than 15\") \n",
    "     \n",
    "print(\"not in if and not in else Block\") "
   ]
  },
  {
   "cell_type": "code",
   "execution_count": 31,
   "id": "17e423a3",
   "metadata": {},
   "outputs": [
    {
     "name": "stdout",
     "output_type": "stream",
     "text": [
      "i is 20\n"
     ]
    }
   ],
   "source": [
    "# if-elif-else\n",
    "\n",
    "i = 20\n",
    "if (i == 10): \n",
    "    print(\"i is 10\") \n",
    "elif (i == 15): \n",
    "    print(\"i is 15\") \n",
    "elif (i == 20): \n",
    "    print(\"i is 20\") \n",
    "else: \n",
    "    print(\"i is not present\") "
   ]
  },
  {
   "cell_type": "code",
   "execution_count": 32,
   "id": "9cf55d26",
   "metadata": {},
   "outputs": [
    {
     "name": "stdout",
     "output_type": "stream",
     "text": [
      "H\n",
      "e\n",
      "l\n",
      "l\n",
      "o\n",
      " \n",
      "W\n",
      "o\n",
      "r\n",
      "l\n",
      "d\n"
     ]
    }
   ],
   "source": [
    "# For loop\n",
    "for letter in \"Hello World\":\n",
    "        print(letter)"
   ]
  },
  {
   "cell_type": "code",
   "execution_count": 1,
   "id": "473e4ce2",
   "metadata": {},
   "outputs": [
    {
     "name": "stdout",
     "output_type": "stream",
     "text": [
      "1\n",
      "2\n",
      "3\n",
      "4\n",
      "5\n"
     ]
    }
   ],
   "source": [
    "# While Loop \n",
    "i = 1\n",
    "while i < 6:\n",
    "  print(i)\n",
    "  i += 1"
   ]
  },
  {
   "cell_type": "code",
   "execution_count": 2,
   "id": "42dd0bb4",
   "metadata": {},
   "outputs": [
    {
     "data": {
      "text/plain": [
       "[10, 100, 1000, 20, 200, 2000, 30, 300, 3000]"
      ]
     },
     "execution_count": 2,
     "metadata": {},
     "output_type": "execute_result"
    }
   ],
   "source": [
    "# Nested Loop\n",
    "lst=[]\n",
    "for x in [1,2,3]:\n",
    "    for y in [10,100,1000]:\n",
    "        lst.append(x*y)\n",
    "lst"
   ]
  },
  {
   "cell_type": "code",
   "execution_count": 3,
   "id": "d30ca333",
   "metadata": {},
   "outputs": [
    {
     "name": "stdout",
     "output_type": "stream",
     "text": [
      "apple\n",
      "banana\n"
     ]
    }
   ],
   "source": [
    "# break\n",
    "fruits = [\"apple\", \"banana\", \"cherry\"]\n",
    "for x in fruits:\n",
    "  print(x)\n",
    "  if x == \"banana\":\n",
    "    break"
   ]
  },
  {
   "cell_type": "code",
   "execution_count": 4,
   "id": "7cdb017d",
   "metadata": {},
   "outputs": [],
   "source": [
    "#pass\n",
    "for x in [0, 1, 2]:\n",
    "  pass"
   ]
  },
  {
   "cell_type": "code",
   "execution_count": 5,
   "id": "00937261",
   "metadata": {},
   "outputs": [
    {
     "name": "stdout",
     "output_type": "stream",
     "text": [
      "apple\n",
      "cherry\n"
     ]
    }
   ],
   "source": [
    "# continue\n",
    "fruits = [\"apple\", \"banana\", \"cherry\"]\n",
    "for x in fruits:\n",
    "  if x == \"banana\":\n",
    "    continue\n",
    "  print(x)\n"
   ]
  },
  {
   "cell_type": "code",
   "execution_count": 6,
   "id": "a6afb1ee",
   "metadata": {},
   "outputs": [
    {
     "name": "stdout",
     "output_type": "stream",
     "text": [
      "Enter something: 3\n",
      "You entered: 3\n"
     ]
    }
   ],
   "source": [
    "# INPUT AND OUTPUT\n",
    "user_input = input(\"Enter something: \")\n",
    "print(\"You entered:\", user_input)"
   ]
  },
  {
   "cell_type": "markdown",
   "id": "70f68fad",
   "metadata": {},
   "source": [
    "# LISTS, Slicing and Methods"
   ]
  },
  {
   "cell_type": "code",
   "execution_count": 7,
   "id": "43e75b6a",
   "metadata": {},
   "outputs": [],
   "source": [
    "my_list=[1,2,3]"
   ]
  },
  {
   "cell_type": "code",
   "execution_count": 8,
   "id": "475732d1",
   "metadata": {},
   "outputs": [],
   "source": [
    "my_list=[1,'string',23.4]"
   ]
  },
  {
   "cell_type": "code",
   "execution_count": 10,
   "id": "88a534cb",
   "metadata": {},
   "outputs": [
    {
     "name": "stdout",
     "output_type": "stream",
     "text": [
      "1 string\n"
     ]
    }
   ],
   "source": [
    "first_element = my_list[0]  # Accessing the first element\n",
    "second_element = my_list[1]  # Accessing the second element\n",
    "print(first_element,second_element)"
   ]
  },
  {
   "cell_type": "code",
   "execution_count": 11,
   "id": "54214bba",
   "metadata": {},
   "outputs": [
    {
     "name": "stdout",
     "output_type": "stream",
     "text": [
      "23.4\n"
     ]
    }
   ],
   "source": [
    "last_element = my_list[-1] \n",
    "print(last_element)"
   ]
  },
  {
   "cell_type": "code",
   "execution_count": 13,
   "id": "af6877af",
   "metadata": {},
   "outputs": [
    {
     "name": "stdout",
     "output_type": "stream",
     "text": [
      "[1, 10, 23.4]\n"
     ]
    }
   ],
   "source": [
    "my_list=[1,'string',23.4]\n",
    "my_list[1] = 10 \n",
    "print(my_list)"
   ]
  },
  {
   "cell_type": "code",
   "execution_count": 14,
   "id": "b6e8166c",
   "metadata": {},
   "outputs": [
    {
     "name": "stdout",
     "output_type": "stream",
     "text": [
      "[1, 10, 23.4, 6]\n"
     ]
    }
   ],
   "source": [
    "my_list.append(6)\n",
    "print(my_list)"
   ]
  },
  {
   "cell_type": "code",
   "execution_count": 15,
   "id": "93d33950",
   "metadata": {},
   "outputs": [
    {
     "name": "stdout",
     "output_type": "stream",
     "text": [
      "[1, 10, 7, 23.4, 6]\n"
     ]
    }
   ],
   "source": [
    "my_list.insert(2, 7) \n",
    "print(my_list)"
   ]
  },
  {
   "cell_type": "code",
   "execution_count": 17,
   "id": "646632d8",
   "metadata": {},
   "outputs": [
    {
     "name": "stdout",
     "output_type": "stream",
     "text": [
      "[1, 10, 7, 23.4]\n"
     ]
    }
   ],
   "source": [
    "my_list.remove(6) \n",
    "print(my_list)"
   ]
  },
  {
   "cell_type": "code",
   "execution_count": 18,
   "id": "64ed6c6e",
   "metadata": {},
   "outputs": [
    {
     "name": "stdout",
     "output_type": "stream",
     "text": [
      "[1, 7, 23.4]\n"
     ]
    }
   ],
   "source": [
    "popped_element = my_list.pop(1)\n",
    "print(my_list)"
   ]
  },
  {
   "cell_type": "code",
   "execution_count": 19,
   "id": "4bbcb838",
   "metadata": {},
   "outputs": [
    {
     "data": {
      "text/plain": [
       "[1, 2, 9, 90, 334]"
      ]
     },
     "execution_count": 19,
     "metadata": {},
     "output_type": "execute_result"
    }
   ],
   "source": [
    "num_list = [1,9,334,90,2]\n",
    "num_list.sort()\n",
    "num_list"
   ]
  },
  {
   "cell_type": "code",
   "execution_count": 20,
   "id": "6b1f1a16",
   "metadata": {},
   "outputs": [
    {
     "data": {
      "text/plain": [
       "[334, 90, 9, 2, 1]"
      ]
     },
     "execution_count": 20,
     "metadata": {},
     "output_type": "execute_result"
    }
   ],
   "source": [
    "num_list.reverse()\n",
    "num_list"
   ]
  },
  {
   "cell_type": "code",
   "execution_count": 21,
   "id": "4aab27fd",
   "metadata": {},
   "outputs": [
    {
     "data": {
      "text/plain": [
       "[7, 23.4]"
      ]
     },
     "execution_count": 21,
     "metadata": {},
     "output_type": "execute_result"
    }
   ],
   "source": [
    "subset = my_list[1:4] \n",
    "subset"
   ]
  },
  {
   "cell_type": "code",
   "execution_count": 22,
   "id": "2408bfda",
   "metadata": {},
   "outputs": [
    {
     "data": {
      "text/plain": [
       "[1, 2, 9, 90, 334]"
      ]
     },
     "execution_count": 22,
     "metadata": {},
     "output_type": "execute_result"
    }
   ],
   "source": [
    "num_list[::-1]"
   ]
  },
  {
   "cell_type": "markdown",
   "id": "668930d8",
   "metadata": {},
   "source": [
    "# DICTIONARIES and Methods"
   ]
  },
  {
   "cell_type": "code",
   "execution_count": 23,
   "id": "354851d4",
   "metadata": {},
   "outputs": [
    {
     "data": {
      "text/plain": [
       "{'name': 'John', 'age': 25, 'city': 'New York'}"
      ]
     },
     "execution_count": 23,
     "metadata": {},
     "output_type": "execute_result"
    }
   ],
   "source": [
    "my_dict = {'name': 'John', 'age': 25, 'city': 'New York'}\n",
    "my_dict"
   ]
  },
  {
   "cell_type": "code",
   "execution_count": 25,
   "id": "a5737695",
   "metadata": {},
   "outputs": [
    {
     "name": "stdout",
     "output_type": "stream",
     "text": [
      "John 25\n"
     ]
    }
   ],
   "source": [
    "name_value = my_dict['name']\n",
    "age_value = my_dict['age']\n",
    "print(name_value,age_value)"
   ]
  },
  {
   "cell_type": "code",
   "execution_count": 26,
   "id": "3f753c35",
   "metadata": {},
   "outputs": [
    {
     "data": {
      "text/plain": [
       "{'name': 'John', 'age': 26, 'city': 'New York', 'gender': 'Male'}"
      ]
     },
     "execution_count": 26,
     "metadata": {},
     "output_type": "execute_result"
    }
   ],
   "source": [
    "my_dict['age'] = 26  # Modifying the value associated with the 'age' key\n",
    "my_dict['gender'] = 'Male'  # Adding a new key-value pair\n",
    "my_dict"
   ]
  },
  {
   "cell_type": "code",
   "execution_count": 27,
   "id": "c4ba8c38",
   "metadata": {},
   "outputs": [
    {
     "data": {
      "text/plain": [
       "{'name': 'John', 'city': 'New York', 'gender': 'Male'}"
      ]
     },
     "execution_count": 27,
     "metadata": {},
     "output_type": "execute_result"
    }
   ],
   "source": [
    "removed_age = my_dict.pop('age')\n",
    "my_dict"
   ]
  },
  {
   "cell_type": "code",
   "execution_count": 28,
   "id": "0a27349d",
   "metadata": {},
   "outputs": [
    {
     "data": {
      "text/plain": [
       "{'name': 'John', 'city': 'New York'}"
      ]
     },
     "execution_count": 28,
     "metadata": {},
     "output_type": "execute_result"
    }
   ],
   "source": [
    "last_item = my_dict.popitem()\n",
    "my_dict"
   ]
  },
  {
   "cell_type": "code",
   "execution_count": 30,
   "id": "35c78bcd",
   "metadata": {},
   "outputs": [
    {
     "data": {
      "text/plain": [
       "dict_keys(['name', 'city'])"
      ]
     },
     "execution_count": 30,
     "metadata": {},
     "output_type": "execute_result"
    }
   ],
   "source": [
    "keys_list = my_dict.keys()\n",
    "keys_list"
   ]
  },
  {
   "cell_type": "code",
   "execution_count": 31,
   "id": "860a25f8",
   "metadata": {},
   "outputs": [
    {
     "data": {
      "text/plain": [
       "dict_values(['John', 'New York'])"
      ]
     },
     "execution_count": 31,
     "metadata": {},
     "output_type": "execute_result"
    }
   ],
   "source": [
    "values_list = my_dict.values()\n",
    "values_list"
   ]
  },
  {
   "cell_type": "code",
   "execution_count": 33,
   "id": "38f83b8b",
   "metadata": {},
   "outputs": [
    {
     "name": "stdout",
     "output_type": "stream",
     "text": [
      "dict_items([('name', 'John'), ('city', 'New York')])\n"
     ]
    }
   ],
   "source": [
    "items_list = my_dict.items()\n",
    "print(items_list)"
   ]
  },
  {
   "cell_type": "code",
   "execution_count": 34,
   "id": "d81b800e",
   "metadata": {},
   "outputs": [
    {
     "data": {
      "text/plain": [
       "0"
      ]
     },
     "execution_count": 34,
     "metadata": {},
     "output_type": "execute_result"
    }
   ],
   "source": [
    "age_value = my_dict.get('age', 0)  # Returns the age value or 0 if 'age' is not in the dictionary\n",
    "age_value"
   ]
  },
  {
   "cell_type": "code",
   "execution_count": 35,
   "id": "799a280b",
   "metadata": {},
   "outputs": [
    {
     "data": {
      "text/plain": [
       "{'name': 'John', 'city': 'San Francisco', 'gender': 'Male'}"
      ]
     },
     "execution_count": 35,
     "metadata": {},
     "output_type": "execute_result"
    }
   ],
   "source": [
    "other_dict = {'gender': 'Male', 'city': 'San Francisco'}\n",
    "my_dict.update(other_dict)\n",
    "my_dict"
   ]
  },
  {
   "cell_type": "markdown",
   "id": "6e6bdef3",
   "metadata": {},
   "source": [
    "# Introduction to Set & Set Methods"
   ]
  },
  {
   "cell_type": "code",
   "execution_count": 44,
   "id": "56f505e9",
   "metadata": {},
   "outputs": [
    {
     "data": {
      "text/plain": [
       "{1, 2, 3, 4, 5}"
      ]
     },
     "execution_count": 44,
     "metadata": {},
     "output_type": "execute_result"
    }
   ],
   "source": [
    "# Creating a set\n",
    "my_set = {1, 2, 3, 4, 5}\n",
    "my_set"
   ]
  },
  {
   "cell_type": "code",
   "execution_count": 46,
   "id": "916fd747",
   "metadata": {},
   "outputs": [
    {
     "data": {
      "text/plain": [
       "{1, 2, 3, 4, 5, 6, 7, 8, 9}"
      ]
     },
     "execution_count": 46,
     "metadata": {},
     "output_type": "execute_result"
    }
   ],
   "source": [
    "# Adding elements to a set\n",
    "my_set.add(6)\n",
    "my_set.update([7, 8, 9])\n",
    "my_set"
   ]
  },
  {
   "cell_type": "code",
   "execution_count": 47,
   "id": "5fa179e3",
   "metadata": {},
   "outputs": [
    {
     "data": {
      "text/plain": [
       "{1, 2, 4, 5, 6, 7, 8, 9}"
      ]
     },
     "execution_count": 47,
     "metadata": {},
     "output_type": "execute_result"
    }
   ],
   "source": [
    "# Removing elements from a set\n",
    "my_set.remove(3)\n",
    "my_set.discard(10)  # No error if the element is not present\n",
    "my_set"
   ]
  },
  {
   "cell_type": "code",
   "execution_count": 49,
   "id": "38ea97a8",
   "metadata": {},
   "outputs": [
    {
     "data": {
      "text/plain": [
       "{1, 2, 3, 4, 5}"
      ]
     },
     "execution_count": 49,
     "metadata": {},
     "output_type": "execute_result"
    }
   ],
   "source": [
    "# Set operations\n",
    "set1 = {1, 2, 3}\n",
    "set2 = {3, 4, 5}\n",
    "union_set = set1.union(set2)\n",
    "union_set"
   ]
  },
  {
   "cell_type": "code",
   "execution_count": 50,
   "id": "102850e1",
   "metadata": {},
   "outputs": [
    {
     "data": {
      "text/plain": [
       "{3}"
      ]
     },
     "execution_count": 50,
     "metadata": {},
     "output_type": "execute_result"
    }
   ],
   "source": [
    "intersection_set = set1.intersection(set2)\n",
    "intersection_set"
   ]
  },
  {
   "cell_type": "code",
   "execution_count": 51,
   "id": "3530f12a",
   "metadata": {},
   "outputs": [
    {
     "data": {
      "text/plain": [
       "{1, 2}"
      ]
     },
     "execution_count": 51,
     "metadata": {},
     "output_type": "execute_result"
    }
   ],
   "source": [
    "difference_set = set1.difference(set2)\n",
    "difference_set"
   ]
  },
  {
   "cell_type": "markdown",
   "id": "cb696622",
   "metadata": {},
   "source": [
    "# Introduction to Map & Map Methods\n",
    "# Mapping function\n"
   ]
  },
  {
   "cell_type": "code",
   "execution_count": 1,
   "id": "a6fd456d",
   "metadata": {},
   "outputs": [
    {
     "name": "stdout",
     "output_type": "stream",
     "text": [
      "<map object at 0x000002088E75CE20>\n",
      "[1, 4, 9, 16]\n"
     ]
    }
   ],
   "source": [
    "def square(x):\n",
    "    return x ** 2\n",
    "\n",
    "numbers = [1, 2, 3, 4]\n",
    "squared_numbers = map(square, numbers)\n",
    "print(squared_numbers)\n",
    "result_list = list(squared_numbers)\n",
    "print(result_list) "
   ]
  },
  {
   "cell_type": "markdown",
   "id": "0cf74e8a",
   "metadata": {},
   "source": [
    " # String Function"
   ]
  },
  {
   "cell_type": "code",
   "execution_count": 54,
   "id": "a74b7109",
   "metadata": {},
   "outputs": [
    {
     "name": "stdout",
     "output_type": "stream",
     "text": [
      "13\n",
      "hello, world!\n",
      "['Hello', ' World!']\n",
      "Python programming\n",
      "Python Programming\n"
     ]
    }
   ],
   "source": [
    "my_string = \"Hello, World!\"\n",
    "print(len(my_string))        \n",
    "print(my_string.lower())       \n",
    "print(my_string.split(','))\n",
    "new_string = \"python programming\"\n",
    "capitalized_string = new_string.capitalize()\n",
    "print(capitalized_string)\n",
    "titlecased_string = new_string.title()\n",
    "print(titlecased_string)"
   ]
  },
  {
   "cell_type": "markdown",
   "id": "cd6007ab",
   "metadata": {},
   "source": [
    " # Number Function"
   ]
  },
  {
   "cell_type": "code",
   "execution_count": 42,
   "id": "43bb0a47",
   "metadata": {},
   "outputs": [
    {
     "name": "stdout",
     "output_type": "stream",
     "text": [
      "5 3\n"
     ]
    }
   ],
   "source": [
    "number = -5\n",
    "absolute_value = abs(number)    \n",
    "rounded_value = round(3.14159)  \n",
    "print(absolute_value,rounded_value)"
   ]
  },
  {
   "cell_type": "markdown",
   "id": "46288ec8",
   "metadata": {},
   "source": [
    "# Date and Time Function "
   ]
  },
  {
   "cell_type": "code",
   "execution_count": 71,
   "id": "fbd6610f",
   "metadata": {},
   "outputs": [
    {
     "name": "stdout",
     "output_type": "stream",
     "text": [
      "2024-01-30 10:16:05.603412\n",
      "2024-01-30 10:16:05\n",
      "2024-01-31 10:16:05.603412\n"
     ]
    }
   ],
   "source": [
    "from datetime import datetime, timedelta\n",
    "\n",
    "current_time = datetime.now()\n",
    "print(current_time)\n",
    "formatted_time = current_time.strftime(\"%Y-%m-%d %H:%M:%S\")\n",
    "print(formatted_time)\n",
    "next_day = current_time + timedelta(days=1)\n",
    "print(next_day)"
   ]
  },
  {
   "cell_type": "markdown",
   "id": "61417e58",
   "metadata": {},
   "source": [
    "# Python Functions"
   ]
  },
  {
   "cell_type": "code",
   "execution_count": 72,
   "id": "688657f4",
   "metadata": {},
   "outputs": [
    {
     "name": "stdout",
     "output_type": "stream",
     "text": [
      "Hello nikita, your age is 6\n",
      "Hello nikita\n"
     ]
    }
   ],
   "source": [
    "def hello(name,age):\n",
    "    print(f\"Hello {name}, your age is {age}\")\n",
    "    return f\"Hello {name}\"\n",
    "\n",
    "x=hello(\"nikita\", 6)\n",
    "print(x)"
   ]
  },
  {
   "cell_type": "markdown",
   "id": "70518dff",
   "metadata": {},
   "source": [
    "# Default Arguments"
   ]
  },
  {
   "cell_type": "code",
   "execution_count": 74,
   "id": "b7fa24a2",
   "metadata": {},
   "outputs": [
    {
     "name": "stdout",
     "output_type": "stream",
     "text": [
      "9\n",
      "27\n"
     ]
    }
   ],
   "source": [
    "def power(base, exponent=2):\n",
    "    return base ** exponent\n",
    "\n",
    "result1 = power(3)     \n",
    "print(result1)\n",
    "result2 = power(3, 3) \n",
    "print(result2)"
   ]
  },
  {
   "cell_type": "markdown",
   "id": "2c7306a8",
   "metadata": {},
   "source": [
    "# Keyword Arguments"
   ]
  },
  {
   "cell_type": "code",
   "execution_count": 75,
   "id": "98d1beea",
   "metadata": {},
   "outputs": [
    {
     "name": "stdout",
     "output_type": "stream",
     "text": [
      "Name: John, Age: 25\n"
     ]
    }
   ],
   "source": [
    "def print_info(name, age):\n",
    "    print(f\"Name: {name}, Age: {age}\")\n",
    "\n",
    "print_info(age=25, name=\"John\")"
   ]
  },
  {
   "cell_type": "markdown",
   "id": "b5c70a4f",
   "metadata": {},
   "source": [
    "# Special parameters"
   ]
  },
  {
   "cell_type": "code",
   "execution_count": 76,
   "id": "29638c9c",
   "metadata": {},
   "outputs": [
    {
     "name": "stdout",
     "output_type": "stream",
     "text": [
      "Positional Arguments: (1, 2, 3)\n",
      "Keyword Arguments: {'name': 'John', 'age': 25}\n"
     ]
    }
   ],
   "source": [
    "def print_args(*args, **kwargs):\n",
    "    print(\"Positional Arguments:\", args)\n",
    "    print(\"Keyword Arguments:\", kwargs)\n",
    "\n",
    "print_args(1, 2, 3, name=\"John\", age=25)"
   ]
  },
  {
   "cell_type": "code",
   "execution_count": 77,
   "id": "cd141ba5",
   "metadata": {},
   "outputs": [
    {
     "name": "stdout",
     "output_type": "stream",
     "text": [
      "10\n"
     ]
    }
   ],
   "source": [
    "def sum_numbers(*args):\n",
    "    return sum(args)\n",
    "\n",
    "result = sum_numbers(1, 2, 3, 4)\n",
    "print(result)"
   ]
  },
  {
   "cell_type": "code",
   "execution_count": 79,
   "id": "a9177bfe",
   "metadata": {},
   "outputs": [
    {
     "name": "stdout",
     "output_type": "stream",
     "text": [
      "12\n"
     ]
    }
   ],
   "source": [
    "multiply = lambda x, y: x * y\n",
    "result = multiply(3, 4)\n",
    "print(result)"
   ]
  },
  {
   "cell_type": "markdown",
   "id": "656056ac",
   "metadata": {},
   "source": [
    "# OOPS\n"
   ]
  },
  {
   "cell_type": "code",
   "execution_count": 36,
   "id": "7e1dfced",
   "metadata": {},
   "outputs": [
    {
     "name": "stdout",
     "output_type": "stream",
     "text": [
      "<__main__.Pet object at 0x000001F020E31C30>\n"
     ]
    }
   ],
   "source": [
    "# Pet class\n",
    "class Pet:\n",
    "    def __init__(self, name, age, breed):\n",
    "        self.Name = name\n",
    "        self.Age = age\n",
    "        self.Breed = breed\n",
    "p = Pet(\"Aayu\",20,\"Girl\")\n",
    "print(p)"
   ]
  },
  {
   "cell_type": "code",
   "execution_count": 55,
   "id": "9c183e9a",
   "metadata": {},
   "outputs": [],
   "source": [
    "# Access Specifiers\n",
    "class MyClass:\n",
    "    def __init__(self):\n",
    "        self.public_attribute = 10\n",
    "        self._protected_attribute = 20\n",
    "        self.__private_attribute = 30\n",
    "        "
   ]
  },
  {
   "cell_type": "code",
   "execution_count": 56,
   "id": "0443cf9a",
   "metadata": {},
   "outputs": [],
   "source": [
    "# Constructor\n",
    "class Pet:\n",
    "    def __init__(self, name, age, breed):\n",
    "        self.Name = name\n",
    "        self.Age = age\n",
    "        self.Breed = breed"
   ]
  },
  {
   "cell_type": "code",
   "execution_count": 57,
   "id": "03bdeed1",
   "metadata": {},
   "outputs": [],
   "source": [
    "# Inheritance \n",
    "class Parent:\n",
    "    def __init__(self,name,age):\n",
    "        self.name = name\n",
    "        self.age = age\n",
    "    # self is given because whenever any object calls any function self is passed as an argument automatically\n",
    "    def color_of_eye(self): \n",
    "        print(\"Black\")\n",
    "\n",
    "class Child(Parent):\n",
    "    def color_of_eye(self):\n",
    "        print(\"brown\")"
   ]
  },
  {
   "cell_type": "code",
   "execution_count": 58,
   "id": "4edbab1b",
   "metadata": {},
   "outputs": [
    {
     "name": "stdout",
     "output_type": "stream",
     "text": [
      "brown\n"
     ]
    }
   ],
   "source": [
    "c1 = Child(\"mitu\" , 22)\n",
    "c1.color_of_eye()"
   ]
  },
  {
   "cell_type": "code",
   "execution_count": 59,
   "id": "ac44f5b4",
   "metadata": {},
   "outputs": [
    {
     "name": "stdout",
     "output_type": "stream",
     "text": [
      "Dogs bark\n",
      "Fish doesn't bark\n"
     ]
    }
   ],
   "source": [
    "# Polymorphism\n",
    "\n",
    "class Animal:\n",
    "    def bark(self):\n",
    "        print(\"Animals bark\")\n",
    "class Dog(Animal):\n",
    "    def bark(self):\n",
    "        print(\"Dogs bark\")\n",
    "class Fish(Animal):\n",
    "    def bark(self):\n",
    "        print(\"Fish doesn't bark\")\n",
    "\n",
    "# def can_bark(obj):\n",
    "#     obj.bark()\n",
    "\n",
    "animals = [Dog(), Fish()]\n",
    "for animal in animals:\n",
    "    animal.bark()\n"
   ]
  },
  {
   "cell_type": "code",
   "execution_count": 60,
   "id": "dedf9a37",
   "metadata": {},
   "outputs": [],
   "source": [
    "# Method Overriding\n",
    "class Animal:\n",
    "    def speak(self):\n",
    "        return \"Animal speaks\"\n",
    "\n",
    "class Dog(Animal):\n",
    "    def speak(self):\n",
    "        return \"Dog barks\""
   ]
  },
  {
   "cell_type": "markdown",
   "id": "388b2470",
   "metadata": {},
   "source": [
    "# File Handling"
   ]
  },
  {
   "cell_type": "code",
   "execution_count": 62,
   "id": "35dafb29",
   "metadata": {},
   "outputs": [
    {
     "data": {
      "text/plain": [
       "_io.TextIOWrapper"
      ]
     },
     "execution_count": 62,
     "metadata": {},
     "output_type": "execute_result"
    }
   ],
   "source": [
    "myfile = open('myfile.txt')\n",
    "type(myfile)"
   ]
  },
  {
   "cell_type": "code",
   "execution_count": 63,
   "id": "9ff9a092",
   "metadata": {},
   "outputs": [
    {
     "data": {
      "text/plain": [
       "'Hello !!\\nFirst line\\nSecond line\\nThird Line'"
      ]
     },
     "execution_count": 63,
     "metadata": {},
     "output_type": "execute_result"
    }
   ],
   "source": [
    "myfile.read()"
   ]
  },
  {
   "cell_type": "code",
   "execution_count": 64,
   "id": "32349b20",
   "metadata": {},
   "outputs": [
    {
     "data": {
      "text/plain": [
       "''"
      ]
     },
     "execution_count": 64,
     "metadata": {},
     "output_type": "execute_result"
    }
   ],
   "source": [
    "myfile.read() # cursor moved to last in the above code"
   ]
  },
  {
   "cell_type": "code",
   "execution_count": 65,
   "id": "92a531d7",
   "metadata": {},
   "outputs": [
    {
     "data": {
      "text/plain": [
       "'Hello !!\\nFirst line\\nSecond line\\nThird Line'"
      ]
     },
     "execution_count": 65,
     "metadata": {},
     "output_type": "execute_result"
    }
   ],
   "source": [
    "myfile.seek(0) # movinf cursor back to start\n",
    "myfile.read()"
   ]
  },
  {
   "cell_type": "code",
   "execution_count": 67,
   "id": "7a6219b7",
   "metadata": {},
   "outputs": [
    {
     "data": {
      "text/plain": [
       "['Hello !!\\n', 'First line\\n', 'Second line\\n', 'Third Line']"
      ]
     },
     "execution_count": 67,
     "metadata": {},
     "output_type": "execute_result"
    }
   ],
   "source": [
    "myfile.seek(0)\n",
    "myfile.readlines()"
   ]
  },
  {
   "cell_type": "code",
   "execution_count": 68,
   "id": "b290a9b5",
   "metadata": {},
   "outputs": [],
   "source": [
    "myfile.close()"
   ]
  },
  {
   "cell_type": "code",
   "execution_count": 69,
   "id": "997cef9d",
   "metadata": {},
   "outputs": [
    {
     "name": "stdout",
     "output_type": "stream",
     "text": [
      "Hello !!\n",
      "First line\n",
      "Second line\n",
      "Third Line\n"
     ]
    }
   ],
   "source": [
    "with open('myfile.txt') as newfile:\n",
    "    contents = newfile.read()\n",
    "print(contents)"
   ]
  },
  {
   "cell_type": "markdown",
   "id": "25e67d7a",
   "metadata": {},
   "source": [
    "# Exception Handling"
   ]
  },
  {
   "cell_type": "code",
   "execution_count": 70,
   "id": "d51b7af2",
   "metadata": {},
   "outputs": [
    {
     "name": "stdout",
     "output_type": "stream",
     "text": [
      "Enter a number :3\n",
      "Hi\n",
      "33.333333333333336\n",
      "no exception\n",
      "executed always\n"
     ]
    }
   ],
   "source": [
    "try :\n",
    "    num = int(input(\"Enter a number :\"))\n",
    "    a = 100/num\n",
    "    print(\"Hi\")\n",
    "    print(a)\n",
    "except ZeroDivisionError:\n",
    "    print(\"Zero can't divide any number\")\n",
    "except ValueError:\n",
    "    print(\"Some error occured\")\n",
    "else:\n",
    "    print(\"no exception\")\n",
    "finally:\n",
    "    print(\"executed always\")\n",
    "    "
   ]
  },
  {
   "cell_type": "code",
   "execution_count": null,
   "id": "08ea7210",
   "metadata": {},
   "outputs": [],
   "source": []
  }
 ],
 "metadata": {
  "kernelspec": {
   "display_name": "Python 3 (ipykernel)",
   "language": "python",
   "name": "python3"
  },
  "language_info": {
   "codemirror_mode": {
    "name": "ipython",
    "version": 3
   },
   "file_extension": ".py",
   "mimetype": "text/x-python",
   "name": "python",
   "nbconvert_exporter": "python",
   "pygments_lexer": "ipython3",
   "version": "3.10.9"
  }
 },
 "nbformat": 4,
 "nbformat_minor": 5
}

{
 "cells": [
  {
   "cell_type": "code",
   "execution_count": 3,
   "metadata": {
    "application/vnd.databricks.v1+cell": {
     "cellMetadata": {
      "byteLimit": 2048000,
      "rowLimit": 10000
     },
     "inputWidgets": {},
     "nuid": "b4c37034-1e02-470a-a9a2-df879c5391b1",
     "showTitle": false,
     "title": ""
    }
   },
   "outputs": [
    {
     "ename": "ModuleNotFoundError",
     "evalue": "No module named 'findspark'",
     "output_type": "error",
     "traceback": [
      "\u001b[1;31m---------------------------------------------------------------------------\u001b[0m",
      "\u001b[1;31mModuleNotFoundError\u001b[0m                       Traceback (most recent call last)",
      "Cell \u001b[1;32mIn[3], line 1\u001b[0m\n\u001b[1;32m----> 1\u001b[0m \u001b[38;5;28;01mimport\u001b[39;00m \u001b[38;5;21;01mfindspark\u001b[39;00m \n\u001b[0;32m      2\u001b[0m findspark\u001b[38;5;241m.\u001b[39minit()\n\u001b[0;32m      3\u001b[0m \u001b[38;5;28;01mimport\u001b[39;00m \u001b[38;5;21;01mpyspark\u001b[39;00m \n",
      "\u001b[1;31mModuleNotFoundError\u001b[0m: No module named 'findspark'"
     ]
    }
   ],
   "source": [
    "import pyspark \n",
    "from pyspark.sql import SparkSession\n",
    " \n",
    "# Create a spark session\n",
    "spark = SparkSession.builder.appName('DataFrame_operations').getOrCreate()\n",
    " \n",
    "# Create data in dataframe\n",
    "data = [(('Ram'), '1991-04-01', 'M', 3000),\n",
    "       (('Mike'), '2000-05-19', 'M', 4000),\n",
    "       (('Rohini'), '1978-09-05', 'M', 4000),\n",
    "       (('Maria'), '1967-12-01', 'F', 4000),\n",
    "       (('Jenis'), '1980-02-17', 'F', 1200)]\n",
    " \n",
    "# Column names in dataframe\n",
    "columns = [\"Name\", \"DOB\", \"Gender\", \"salary\"]\n",
    " \n",
    "# Create the spark dataframe\n",
    "df = spark.createDataFrame(data=data ,schema=columns)\n",
    " \n",
    "# Print the dataframe\n",
    "df.show()"
   ]
  },
  {
   "cell_type": "code",
   "execution_count": null,
   "metadata": {
    "application/vnd.databricks.v1+cell": {
     "cellMetadata": {
      "byteLimit": 2048000,
      "rowLimit": 10000
     },
     "inputWidgets": {},
     "nuid": "21b30f0e-9b2c-46d4-9f02-b72b0aae8bea",
     "showTitle": false,
     "title": ""
    }
   },
   "outputs": [
    {
     "name": "stdout",
     "output_type": "stream",
     "text": [
      "root\n",
      " |-- Name: string (nullable = true)\n",
      " |-- DateOfBirth: string (nullable = true)\n",
      " |-- Gender: string (nullable = true)\n",
      " |-- salary: long (nullable = true)\n",
      "\n",
      "+------+-----------+------+------+\n",
      "|  Name|DateOfBirth|Gender|salary|\n",
      "+------+-----------+------+------+\n",
      "|   Ram| 1991-04-01|     M|  3000|\n",
      "|  Mike| 2000-05-19|     M|  4000|\n",
      "|Rohini| 1978-09-05|     M|  4000|\n",
      "| Maria| 1967-12-01|     F|  4000|\n",
      "| Jenis| 1980-02-17|     F|  1200|\n",
      "+------+-----------+------+------+\n",
      "\n"
     ]
    }
   ],
   "source": [
    "df_columnRename = df.withColumnRenamed('DOB','DateOfBirth')\n",
    "df_columnRename.printSchema()\n",
    "df_columnRename.show()"
   ]
  },
  {
   "cell_type": "code",
   "execution_count": null,
   "metadata": {
    "application/vnd.databricks.v1+cell": {
     "cellMetadata": {
      "byteLimit": 2048000,
      "rowLimit": 10000
     },
     "inputWidgets": {},
     "nuid": "fc60e51f-4995-4ade-b68e-2dfe748a63c5",
     "showTitle": false,
     "title": ""
    }
   },
   "outputs": [
    {
     "name": "stdout",
     "output_type": "stream",
     "text": [
      "+------+-----------+------+------+\n",
      "|  Name|DateOfBirth|Gender|Salary|\n",
      "+------+-----------+------+------+\n",
      "|   Ram| 1991-04-01|     M|  3000|\n",
      "|  Mike| 2000-05-19|     M|  4000|\n",
      "|Rohini| 1978-09-05|     M|  4000|\n",
      "| Maria| 1967-12-01|     F|  4000|\n",
      "| Jenis| 1980-02-17|     F|  1200|\n",
      "+------+-----------+------+------+\n",
      "\n"
     ]
    }
   ],
   "source": [
    "df.withColumnRenamed('DOB','DateOfBirth').withColumnRenamed('salary',\"Salary\").show()"
   ]
  },
  {
   "cell_type": "code",
   "execution_count": null,
   "metadata": {
    "application/vnd.databricks.v1+cell": {
     "cellMetadata": {
      "byteLimit": 2048000,
      "rowLimit": 10000
     },
     "inputWidgets": {},
     "nuid": "48e7f33b-a7e6-4bf9-9041-c6c4e62c52e4",
     "showTitle": false,
     "title": ""
    }
   },
   "outputs": [
    {
     "name": "stdout",
     "output_type": "stream",
     "text": [
      "+------+----------+------+-------+\n",
      "|  Name|       DOB|Gender|Payment|\n",
      "+------+----------+------+-------+\n",
      "|   Ram|1991-04-01|     M|   3000|\n",
      "|  Mike|2000-05-19|     M|   4000|\n",
      "|Rohini|1978-09-05|     M|   4000|\n",
      "| Maria|1967-12-01|     F|   4000|\n",
      "| Jenis|1980-02-17|     F|   1200|\n",
      "+------+----------+------+-------+\n",
      "\n"
     ]
    }
   ],
   "source": [
    "from pyspark.sql.functions import col\n",
    "data = df.select(col(\"Name\"),col(\"DOB\"),col(\"Gender\"),col(\"salary\").alias('Payment'))\n",
    "data.show()"
   ]
  },
  {
   "cell_type": "code",
   "execution_count": null,
   "metadata": {
    "application/vnd.databricks.v1+cell": {
     "cellMetadata": {
      "byteLimit": 2048000,
      "rowLimit": 10000
     },
     "inputWidgets": {},
     "nuid": "27d0737d-d74e-4101-a3e0-4d921cd9c0bb",
     "showTitle": false,
     "title": ""
    }
   },
   "outputs": [
    {
     "name": "stdout",
     "output_type": "stream",
     "text": [
      "+------+----------+------+------+\n",
      "| names|       DOB|Gender|salary|\n",
      "+------+----------+------+------+\n",
      "|   Ram|1991-04-01|     M|  3000|\n",
      "|  Mike|2000-05-19|     M|  4000|\n",
      "|Rohini|1978-09-05|     M|  4000|\n",
      "| Maria|1967-12-01|     F|  4000|\n",
      "| Jenis|1980-02-17|     F|  1200|\n",
      "+------+----------+------+------+\n",
      "\n"
     ]
    }
   ],
   "source": [
    "df_selectExpr = df.selectExpr(\"Name as names\",\"DOB\",'Gender','salary')\n",
    "df_selectExpr.show()"
   ]
  },
  {
   "cell_type": "code",
   "execution_count": null,
   "metadata": {
    "application/vnd.databricks.v1+cell": {
     "cellMetadata": {
      "byteLimit": 2048000,
      "rowLimit": 10000
     },
     "inputWidgets": {},
     "nuid": "ab1aadb3-1b67-45e9-bc5d-ec942636d8b3",
     "showTitle": false,
     "title": ""
    }
   },
   "outputs": [
    {
     "name": "stdout",
     "output_type": "stream",
     "text": [
      "+----------+-----------+---+-------+\n",
      "|First Name|DateOfBirth|M/F|Payment|\n",
      "+----------+-----------+---+-------+\n",
      "|       Ram| 1991-04-01|  M|   3000|\n",
      "|      Mike| 2000-05-19|  M|   4000|\n",
      "|    Rohini| 1978-09-05|  M|   4000|\n",
      "|     Maria| 1967-12-01|  F|   4000|\n",
      "|     Jenis| 1980-02-17|  F|   1200|\n",
      "+----------+-----------+---+-------+\n",
      "\n"
     ]
    }
   ],
   "source": [
    "datalist = ['First Name','DateOfBirth','M/F','Payment']\n",
    "toDF = df.toDF(*datalist)\n",
    "toDF.show()"
   ]
  },
  {
   "cell_type": "code",
   "execution_count": null,
   "metadata": {
    "application/vnd.databricks.v1+cell": {
     "cellMetadata": {},
     "inputWidgets": {},
     "nuid": "9650e82c-7b2c-44df-bc9c-83692adc7518",
     "showTitle": false,
     "title": ""
    }
   },
   "outputs": [],
   "source": []
  }
 ],
 "metadata": {
  "application/vnd.databricks.v1+notebook": {
   "dashboards": [],
   "language": "python",
   "notebookMetadata": {
    "pythonIndentUnit": 4
   },
   "notebookName": "Dataframe_spark",
   "widgets": {}
  },
  "kernelspec": {
   "display_name": "Python 3",
   "language": "python",
   "name": "python3"
  },
  "language_info": {
   "codemirror_mode": {
    "name": "ipython",
    "version": 3
   },
   "file_extension": ".py",
   "mimetype": "text/x-python",
   "name": "python",
   "nbconvert_exporter": "python",
   "pygments_lexer": "ipython3",
   "version": "3.11.7"
  }
 },
 "nbformat": 4,
 "nbformat_minor": 0
}

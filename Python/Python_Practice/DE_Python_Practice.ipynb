{
 "cells": [
  {
   "cell_type": "code",
   "execution_count": 5,
   "id": "3840c96e",
   "metadata": {},
   "outputs": [
    {
     "name": "stdout",
     "output_type": "stream",
     "text": [
      "['EmpID', 'Name', 'Salary']\n",
      "[['e101', 'Pramod', '1200000'], ['e120', 'Dinesh', '2200000'], ['e205', 'Sabesta', '1500000'], ['e331', 'Harry', '1700000'], ['e421', 'Avinash', '1300000'], ['e231', 'Joy', '2300000'], ['e222', 'Smith', '2100000'], ['e339', 'Khan', '1800000'], ['e150', 'Dilip', '1900000'], ['e131', 'Kiran', '800000']]\n"
     ]
    }
   ],
   "source": [
    "# reading csv using csv.reader\n",
    "import csv\n",
    "rows = []\n",
    "with open(\"Employees.csv\", 'r') as file:\n",
    "    csvreader = csv.reader(file)\n",
    "    header = next(csvreader)\n",
    "    for row in csvreader:\n",
    "        rows.append(row)\n",
    "    print(header)\n",
    "    print(rows)"
   ]
  },
  {
   "cell_type": "code",
   "execution_count": 3,
   "id": "e3a7a151",
   "metadata": {},
   "outputs": [
    {
     "name": "stdout",
     "output_type": "stream",
     "text": [
      "  EmpID     Name   Salary\n",
      "0  e101   Pramod  1200000\n",
      "1  e120   Dinesh  2200000\n",
      "2  e205  Sabesta  1500000\n",
      "3  e331    Harry  1700000\n",
      "4  e421  Avinash  1300000\n",
      "5  e231      Joy  2300000\n",
      "6  e222    Smith  2100000\n",
      "7  e339     Khan  1800000\n",
      "8  e150    Dilip  1900000\n",
      "9  e131    Kiran   800000\n",
      "Index(['EmpID', 'Name', 'Salary'], dtype='object')\n",
      "0    1200000\n",
      "1    2200000\n",
      "2    1500000\n",
      "3    1700000\n",
      "4    1300000\n",
      "5    2300000\n",
      "6    2100000\n",
      "7    1800000\n",
      "8    1900000\n",
      "9     800000\n",
      "Name: Salary, dtype: int64\n"
     ]
    }
   ],
   "source": [
    "# reading csv using pandas\n",
    "import pandas as pd \n",
    "data = pd.read_csv(\"Employees.csv\")\n",
    "print(data)\n",
    "print(data.columns) # retreives header names\n",
    "print(data.Salary) # retrieves rows for Salary column"
   ]
  },
  {
   "cell_type": "code",
   "execution_count": 4,
   "id": "8f0fd685",
   "metadata": {},
   "outputs": [
    {
     "name": "stdout",
     "output_type": "stream",
     "text": [
      "['EmpID,Name,Salary\\n']\n",
      "['e101,Pramod,1200000\\n', 'e120,Dinesh,2200000\\n', 'e205,Sabesta,1500000\\n', 'e331,Harry,1700000\\n', 'e421,Avinash,1300000\\n', 'e231,Joy,2300000\\n', 'e222,Smith,2100000\\n', 'e339,Khan,1800000\\n', 'e150,Dilip,1900000\\n', 'e131,Kiran,800000']\n"
     ]
    }
   ],
   "source": [
    "# reading csv using readlines()\n",
    "with open('Employees.csv') as file:\n",
    "    content = file.readlines()\n",
    "header = content[:1]\n",
    "rows = content[1:]\n",
    "print(header)\n",
    "print(rows)"
   ]
  },
  {
   "cell_type": "code",
   "execution_count": 6,
   "id": "45cc0172",
   "metadata": {
    "scrolled": true
   },
   "outputs": [
    {
     "name": "stdout",
     "output_type": "stream",
     "text": [
      "{'EmpID': 'e101', 'Name': 'Pramod', 'Salary': '1200000'}\n",
      "{'EmpID': 'e120', 'Name': 'Dinesh', 'Salary': '2200000'}\n",
      "{'EmpID': 'e205', 'Name': 'Sabesta', 'Salary': '1500000'}\n",
      "{'EmpID': 'e331', 'Name': 'Harry', 'Salary': '1700000'}\n",
      "{'EmpID': 'e421', 'Name': 'Avinash', 'Salary': '1300000'}\n",
      "{'EmpID': 'e231', 'Name': 'Joy', 'Salary': '2300000'}\n",
      "{'EmpID': 'e222', 'Name': 'Smith', 'Salary': '2100000'}\n",
      "{'EmpID': 'e339', 'Name': 'Khan', 'Salary': '1800000'}\n",
      "{'EmpID': 'e150', 'Name': 'Dilip', 'Salary': '1900000'}\n",
      "{'EmpID': 'e131', 'Name': 'Kiran', 'Salary': '800000'}\n"
     ]
    }
   ],
   "source": [
    "# reading csv using DictReader()\n",
    "import csv\n",
    "with open('Employees.csv','r') as file:\n",
    "    reader = csv.DictReader(file)\n",
    "    for row in reader:\n",
    "        print(row)"
   ]
  },
  {
   "cell_type": "code",
   "execution_count": 11,
   "id": "4f349adf",
   "metadata": {},
   "outputs": [
    {
     "name": "stdout",
     "output_type": "stream",
     "text": [
      "[1 2 3 4]\n",
      "<class 'numpy.ndarray'>\n"
     ]
    }
   ],
   "source": [
    "\n",
    "import numpy as np\n",
    "data = np.array([1,2,3,4])\n",
    "print(data)\n",
    "print(type(data))"
   ]
  },
  {
   "cell_type": "code",
   "execution_count": 12,
   "id": "66498ceb",
   "metadata": {},
   "outputs": [
    {
     "name": "stdout",
     "output_type": "stream",
     "text": [
      "<_csv.reader object at 0x0000015B250B02E0>\n",
      "[['EmpID', 'Name', 'Salary'], ['e101', 'Pramod', '1200000'], ['e120', 'Dinesh', '2200000'], ['e205', 'Sabesta', '1500000'], ['e331', 'Harry', '1700000'], ['e421', 'Avinash', '1300000'], ['e231', 'Joy', '2300000'], ['e222', 'Smith', '2100000'], ['e339', 'Khan', '1800000'], ['e150', 'Dilip', '1900000'], ['e131', 'Kiran', '800000']]\n"
     ]
    }
   ],
   "source": [
    "# reading csv file as list\n",
    "import csv\n",
    "with open(\"Employees.csv\", 'r') as file:\n",
    "    csvreader = csv.reader(file)\n",
    "    print(csvreader)\n",
    "    list_csv = list(csvreader)\n",
    "    print(list_csv)"
   ]
  },
  {
   "cell_type": "code",
   "execution_count": 13,
   "id": "b7961a94",
   "metadata": {},
   "outputs": [
    {
     "name": "stdout",
     "output_type": "stream",
     "text": [
      "        series  episodes        actors\n",
      "0      Friends       200   David Crane\n",
      "1  Money Heist        50        Alvaro\n",
      "2       Marvel        45      Stan Lee\n"
     ]
    }
   ],
   "source": [
    "# creating dataframe using dictionary\n",
    "import pandas as pd \n",
    "  \n",
    "# Creating Dictionary \n",
    "dict = { \n",
    "    'series': ['Friends', 'Money Heist', 'Marvel'], \n",
    "    'episodes': [200, 50, 45], \n",
    "    'actors': [' David Crane', 'Alvaro', 'Stan Lee'] \n",
    "} \n",
    "  \n",
    "# Creating Dataframe \n",
    "df = pd.DataFrame(dict) \n",
    "print(df)"
   ]
  },
  {
   "cell_type": "code",
   "execution_count": 14,
   "id": "f17af402",
   "metadata": {},
   "outputs": [
    {
     "name": "stdout",
     "output_type": "stream",
     "text": [
      "[1 2 3 4]\n",
      "Series([], dtype: float64)\n",
      "0    1\n",
      "1    2\n",
      "2    3\n",
      "3    4\n",
      "dtype: int32\n"
     ]
    },
    {
     "name": "stderr",
     "output_type": "stream",
     "text": [
      "C:\\Users\\mitus\\AppData\\Local\\Temp\\ipykernel_3432\\261018664.py:5: FutureWarning: The default dtype for empty Series will be 'object' instead of 'float64' in a future version. Specify a dtype explicitly to silence this warning.\n",
      "  pd_series = pd.Series()\n"
     ]
    }
   ],
   "source": [
    "# Creating Series using numpy array\n",
    "import pandas as pd \n",
    "import numpy as np\n",
    "data = np.array([1,2,3,4])\n",
    "print(data)\n",
    "pd_series = pd.Series()\n",
    "print(pd_series)\n",
    "pd_series = pd.Series(data)\n",
    "print(pd_series)"
   ]
  },
  {
   "cell_type": "code",
   "execution_count": 15,
   "id": "16d0d2d5",
   "metadata": {
    "scrolled": true
   },
   "outputs": [
    {
     "name": "stdout",
     "output_type": "stream",
     "text": [
      "['EmpID', 'Name', 'Salary']\n",
      "EmpID\n",
      "EmpID Name Salary\n",
      "\n",
      "\n",
      "['e101', 'Pramod', '1200000']\n",
      "e101\n",
      "e101 Pramod 1200000\n",
      "\n",
      "\n",
      "['e120', 'Dinesh', '2200000']\n",
      "e120\n",
      "e120 Dinesh 2200000\n",
      "\n",
      "\n",
      "['e205', 'Sabesta', '1500000']\n",
      "e205\n",
      "e205 Sabesta 1500000\n",
      "\n",
      "\n",
      "['e331', 'Harry', '1700000']\n",
      "e331\n",
      "e331 Harry 1700000\n",
      "\n",
      "\n",
      "['e421', 'Avinash', '1300000']\n",
      "e421\n",
      "e421 Avinash 1300000\n",
      "\n",
      "\n",
      "['e231', 'Joy', '2300000']\n",
      "e231\n",
      "e231 Joy 2300000\n",
      "\n",
      "\n",
      "['e222', 'Smith', '2100000']\n",
      "e222\n",
      "e222 Smith 2100000\n",
      "\n",
      "\n",
      "['e339', 'Khan', '1800000']\n",
      "e339\n",
      "e339 Khan 1800000\n",
      "\n",
      "\n",
      "['e150', 'Dilip', '1900000']\n",
      "e150\n",
      "e150 Dilip 1900000\n",
      "\n",
      "\n",
      "['e131', 'Kiran', '800000']\n",
      "e131\n",
      "e131 Kiran 800000\n",
      "\n",
      "\n"
     ]
    }
   ],
   "source": [
    "import csv \n",
    "  \n",
    "with open('Employees.csv') as csvfile: \n",
    "    \n",
    "    # Return a reader object which will \n",
    "    # iterate over lines in the given csvfile. \n",
    "    readCSV = csv.reader(csvfile, delimiter=',') \n",
    "    for row in readCSV: \n",
    "        print(row) \n",
    "        print(row[0]) \n",
    "        print(row[0], row[1], row[2],) \n",
    "        print(\"\\n\") "
   ]
  },
  {
   "cell_type": "code",
   "execution_count": 21,
   "id": "96ba4be2",
   "metadata": {},
   "outputs": [
    {
     "name": "stdout",
     "output_type": "stream",
     "text": [
      "Empty DataFrame\n",
      "Columns: []\n",
      "Index: []\n",
      "         0\n",
      "0        1\n",
      "1        2\n",
      "2        3\n",
      "3        4\n",
      "4        5\n",
      "5  Mitushi\n"
     ]
    }
   ],
   "source": [
    "import pandas as pd\n",
    "df = pd.DataFrame()\n",
    "print(df)\n",
    "lst = [1,2,3,4,5,'Mitushi']\n",
    "df = pd.DataFrame(lst)\n",
    "print(df)"
   ]
  },
  {
   "cell_type": "code",
   "execution_count": 1,
   "id": "a2b40c22",
   "metadata": {},
   "outputs": [
    {
     "data": {
      "text/plain": [
       "{1: None, 2: None, 3: None, 4: None, 5: None}"
      ]
     },
     "execution_count": 1,
     "metadata": {},
     "output_type": "execute_result"
    }
   ],
   "source": [
    "lst = [1, 2, 1, 1, 3, 4, 3, 3, 5]\n",
    "dict.fromkeys(lst)\n",
    "# unique_list_1 = list(dict.fromkeys(lst))"
   ]
  },
  {
   "cell_type": "code",
   "execution_count": null,
   "id": "ce71be31",
   "metadata": {},
   "outputs": [],
   "source": []
  }
 ],
 "metadata": {
  "kernelspec": {
   "display_name": "Python 3 (ipykernel)",
   "language": "python",
   "name": "python3"
  },
  "language_info": {
   "codemirror_mode": {
    "name": "ipython",
    "version": 3
   },
   "file_extension": ".py",
   "mimetype": "text/x-python",
   "name": "python",
   "nbconvert_exporter": "python",
   "pygments_lexer": "ipython3",
   "version": "3.10.9"
  }
 },
 "nbformat": 4,
 "nbformat_minor": 5
}

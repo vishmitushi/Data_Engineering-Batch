{
 "cells": [
  {
   "cell_type": "code",
   "execution_count": 0,
   "metadata": {
    "application/vnd.databricks.v1+cell": {
     "cellMetadata": {
      "byteLimit": 2048000,
      "rowLimit": 10000
     },
     "inputWidgets": {},
     "nuid": "6627c43b-76ef-46e5-a3c7-a1bd0bfc79b6",
     "showTitle": false,
     "title": ""
    }
   },
   "outputs": [],
   "source": [
    "storage_account_name = \"adls1046project\"\n",
    "container_name = \"container\"\n",
    "file_name = \"GlobalLandTemperaturesByCountry.csv\"\n",
    "storage_account_access_key = \"KUKAhIfCYt/M/1Co79hLgWIsSzICBxQ7TJQ3s7DwtrO1gZWe/lRA0Rh43+Qmu1+PR31WfvqtRx6w+ASthC5Ofg==\"\n",
    "spark.conf.set(\"fs.azure.account.key.\" + storage_account_name + \".blob.core.windows.net\", storage_account_access_key)\n",
    "df = spark.read.format(\"csv\").load(f\"wasbs://{container_name}@{storage_account_name}.blob.core.windows.net/{file_name}\", inferSchema=True, header=True)\n",
    "# Register the DataFrame as a SQL temporary view\n",
    "data.createOrReplaceTempView(\"climate_data\")"
   ]
  },
  {
   "cell_type": "code",
   "execution_count": 0,
   "metadata": {
    "application/vnd.databricks.v1+cell": {
     "cellMetadata": {
      "byteLimit": 2048000,
      "rowLimit": 10000
     },
     "inputWidgets": {},
     "nuid": "7004e7cb-943f-4a08-bbf0-ddf7b153e048",
     "showTitle": false,
     "title": ""
    }
   },
   "outputs": [
    {
     "output_type": "stream",
     "name": "stdout",
     "output_type": "stream",
     "text": [
      "Missing values found in the dataset:\n+----------+------------------+-----------------------------+-------+\n|      Date|AverageTemperature|AverageTemperatureUncertainty|Country|\n+----------+------------------+-----------------------------+-------+\n|1743-12-01|              null|                         null|  Åland|\n|1744-01-01|              null|                         null|  Åland|\n|1744-02-01|              null|                         null|  Åland|\n|1744-03-01|              null|                         null|  Åland|\n|1744-08-01|              null|                         null|  Åland|\n|1745-05-01|              null|                         null|  Åland|\n|1745-06-01|              null|                         null|  Åland|\n|1745-07-01|              null|                         null|  Åland|\n|1745-08-01|              null|                         null|  Åland|\n|1745-09-01|              null|                         null|  Åland|\n|1745-10-01|              null|                         null|  Åland|\n|1745-11-01|              null|                         null|  Åland|\n|1745-12-01|              null|                         null|  Åland|\n|1746-01-01|              null|                         null|  Åland|\n|1746-02-01|              null|                         null|  Åland|\n|1746-03-01|              null|                         null|  Åland|\n|1746-04-01|              null|                         null|  Åland|\n|1746-05-01|              null|                         null|  Åland|\n|1746-06-01|              null|                         null|  Åland|\n|1746-07-01|              null|                         null|  Åland|\n+----------+------------------+-----------------------------+-------+\nonly showing top 20 rows\n\n"
     ]
    }
   ],
   "source": [
    "# Check for missing values in relevant columns (e.g., Country, AverageTemperature)\n",
    "missing_values = data.filter((col(\"Country\").isNull()) | (col(\"AverageTemperature\").isNull()))\n",
    "if missing_values.count() > 0:\n",
    "    print(\"Missing values found in the dataset:\")\n",
    "    missing_values.show()\n",
    "else:\n",
    "    print(\"No missing values found in the dataset.\")"
   ]
  },
  {
   "cell_type": "code",
   "execution_count": 0,
   "metadata": {
    "application/vnd.databricks.v1+cell": {
     "cellMetadata": {
      "byteLimit": 2048000,
      "rowLimit": 10000
     },
     "inputWidgets": {},
     "nuid": "5eef8de9-2ab4-4ae5-80de-8b79468b1a69",
     "showTitle": false,
     "title": ""
    }
   },
   "outputs": [
    {
     "output_type": "stream",
     "name": "stdout",
     "output_type": "stream",
     "text": [
      "No duplicates found in the dataset.\n"
     ]
    }
   ],
   "source": [
    "# Check for duplicates\n",
    "duplicate_count = data.groupBy(data.columns).count().filter(\"count > 1\").count()\n",
    "if duplicate_count > 0:\n",
    "    print(\"Duplicates found in the dataset.\")\n",
    "else:\n",
    "    print(\"No duplicates found in the dataset.\")"
   ]
  },
  {
   "cell_type": "code",
   "execution_count": 0,
   "metadata": {
    "application/vnd.databricks.v1+cell": {
     "cellMetadata": {
      "byteLimit": 2048000,
      "rowLimit": 10000
     },
     "inputWidgets": {},
     "nuid": "49ffd64b-ffce-4b2e-85d7-026a9acfc104",
     "showTitle": false,
     "title": ""
    }
   },
   "outputs": [
    {
     "output_type": "stream",
     "name": "stdout",
     "output_type": "stream",
     "text": [
      "Outliers found in the AverageTemperature column:\n+----------+------------------+-----------------------------+-------+\n|      Date|AverageTemperature|AverageTemperatureUncertainty|Country|\n+----------+------------------+-----------------------------+-------+\n|1823-02-01|           -31.746|                        3.438|Denmark|\n|1831-02-01|            -31.28|                        4.364|Denmark|\n|1832-02-01|           -31.259|                         3.57|Denmark|\n|1834-01-01|           -31.572|                         3.27|Denmark|\n|1835-02-01|           -31.831|                        3.245|Denmark|\n|1836-02-01|           -32.625|                        3.677|Denmark|\n|1838-01-01|           -31.057|                        3.493|Denmark|\n|1839-01-01|           -31.251|                        3.188|Denmark|\n|1839-12-01|           -31.045|                        2.886|Denmark|\n|1840-01-01|           -31.082|                        3.549|Denmark|\n|1841-01-01|           -31.097|                        2.931|Denmark|\n|1844-02-01|           -31.911|                        3.263|Denmark|\n|1845-02-01|           -31.081|                        3.222|Denmark|\n|1845-12-01|           -31.152|                         3.11|Denmark|\n|1848-02-01|           -31.245|                        3.602|Denmark|\n|1849-02-01|           -31.407|                        3.241|Denmark|\n|1853-01-01|           -31.532|                         3.25|Denmark|\n|1853-02-01|           -31.742|                        2.854|Denmark|\n|1854-02-01|           -31.365|                        2.835|Denmark|\n|1855-02-01|           -31.228|                        4.391|Denmark|\n+----------+------------------+-----------------------------+-------+\nonly showing top 20 rows\n\n"
     ]
    }
   ],
   "source": [
    "# Check for outliers or unrealistic values in AverageTemperature\n",
    "# you can set a threshold to identify outliers\n",
    "min_threshold = -30  \n",
    "max_threshold = 50\n",
    "outliers = data.filter((col(\"AverageTemperature\") < min_threshold) | (col(\"AverageTemperature\") > max_threshold))\n",
    "if outliers.count() > 0:\n",
    "    print(\"Outliers found in the AverageTemperature column:\")\n",
    "    outliers.show()\n",
    "else:\n",
    "    print(\"No outliers found in the AverageTemperature column.\")"
   ]
  }
 ],
 "metadata": {
  "application/vnd.databricks.v1+notebook": {
   "dashboards": [],
   "language": "python",
   "notebookMetadata": {
    "pythonIndentUnit": 4
   },
   "notebookName": "Error Detection",
   "widgets": {}
  }
 },
 "nbformat": 4,
 "nbformat_minor": 0
}

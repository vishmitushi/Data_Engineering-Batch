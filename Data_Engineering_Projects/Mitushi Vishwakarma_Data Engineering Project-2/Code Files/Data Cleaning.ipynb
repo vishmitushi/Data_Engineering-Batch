{
 "cells": [
  {
   "cell_type": "code",
   "execution_count": 0,
   "metadata": {
    "application/vnd.databricks.v1+cell": {
     "cellMetadata": {
      "byteLimit": 2048000,
      "rowLimit": 10000
     },
     "inputWidgets": {},
     "nuid": "1fa77e7b-ffe7-45c8-aa0f-0d3e68fe609d",
     "showTitle": false,
     "title": ""
    }
   },
   "outputs": [],
   "source": [
    "storage_account_name = \"adls1046project\"\n",
    "container_name = \"container\"\n",
    "file_name = \"GlobalLandTemperaturesByCountry.csv\"\n",
    "storage_account_access_key = \"KUKAhIfCYt/M/1Co79hLgWIsSzICBxQ7TJQ3s7DwtrO1gZWe/lRA0Rh43+Qmu1+PR31WfvqtRx6w+ASthC5Ofg==\"\n",
    "spark.conf.set(\"fs.azure.account.key.\" + storage_account_name + \".blob.core.windows.net\", storage_account_access_key)\n",
    "data = spark.read.format(\"csv\").load(f\"wasbs://{container_name}@{storage_account_name}.blob.core.windows.net/{file_name}\", inferSchema=True, header=True)\n",
    "# Register the DataFrame as a SQL temporary view\n",
    "data.createOrReplaceTempView(\"climate_data\")"
   ]
  },
  {
   "cell_type": "code",
   "execution_count": 0,
   "metadata": {
    "application/vnd.databricks.v1+cell": {
     "cellMetadata": {
      "byteLimit": 2048000,
      "rowLimit": 10000
     },
     "inputWidgets": {},
     "nuid": "7e7c7f01-b3b1-4e55-9ad8-771c3309e6a4",
     "showTitle": false,
     "title": ""
    }
   },
   "outputs": [
    {
     "output_type": "stream",
     "name": "stdout",
     "output_type": "stream",
     "text": [
      "+----------+-------------------+-----------------------------+-------+\n|      Date| AverageTemperature|AverageTemperatureUncertainty|Country|\n+----------+-------------------+-----------------------------+-------+\n|1743-11-01| 4.3839999999999995|                        2.294|  Åland|\n|1744-04-01|               1.53|                         4.68|  Åland|\n|1744-05-01|  6.702000000000001|                        1.789|  Åland|\n|1744-06-01| 11.609000000000002|                        1.577|  Åland|\n|1744-07-01|             15.342|                         1.41|  Åland|\n|1744-09-01|             11.702|                        1.517|  Åland|\n|1744-10-01|              5.477|                        1.862|  Åland|\n|1744-11-01|              3.407|                        1.425|  Åland|\n|1744-12-01|             -2.181|                        1.641|  Åland|\n|1745-01-01|              -3.85|                        1.841|  Åland|\n|1745-02-01| -6.574999999999998|                         1.36|  Åland|\n|1745-03-01|             -4.195|                        1.213|  Åland|\n|1745-04-01|-0.9660000000000002|                        1.172|  Åland|\n|1750-01-01| 1.0910000000000006|                        1.119|  Åland|\n|1750-02-01| 0.8090000000000002|                        3.353|  Åland|\n|1750-03-01| 0.9229999999999999|                        4.716|  Åland|\n|1750-04-01|              3.943|           1.4340000000000002|  Åland|\n|1750-05-01| 6.2650000000000015|                        1.339|  Åland|\n|1750-06-01|             12.408|                        1.204|  Åland|\n|1750-07-01|             16.683|           1.1840000000000002|  Åland|\n+----------+-------------------+-----------------------------+-------+\nonly showing top 20 rows\n\n"
     ]
    }
   ],
   "source": [
    "# Handle missing values\n",
    "# Drop rows with any missing temperature values\n",
    "cleaned_data = data.dropna(subset=[\"AverageTemperature\"])  \n",
    "cleaned_data.show()"
   ]
  },
  {
   "cell_type": "code",
   "execution_count": 0,
   "metadata": {
    "application/vnd.databricks.v1+cell": {
     "cellMetadata": {
      "byteLimit": 2048000,
      "rowLimit": 10000
     },
     "inputWidgets": {},
     "nuid": "f20f271a-f125-4783-9e13-76d60f47bca8",
     "showTitle": false,
     "title": ""
    }
   },
   "outputs": [
    {
     "output_type": "stream",
     "name": "stdout",
     "output_type": "stream",
     "text": [
      "+----------+------------------+-----------------------------+-------+\n|      Date|AverageTemperature|AverageTemperatureUncertainty|Country|\n+----------+------------------+-----------------------------+-------+\n|1743-11-01|             4.384|                        2.294|  Åland|\n|1744-04-01|              1.53|                         4.68|  Åland|\n|1744-05-01|             6.702|                        1.789|  Åland|\n|1744-06-01|            11.609|                        1.577|  Åland|\n|1744-07-01|            15.342|                         1.41|  Åland|\n|1744-09-01|            11.702|                        1.517|  Åland|\n|1744-10-01|             5.477|                        1.862|  Åland|\n|1744-11-01|             3.407|                        1.425|  Åland|\n|1744-12-01|            -2.181|                        1.641|  Åland|\n|1745-01-01|             -3.85|                        1.841|  Åland|\n|1745-02-01|            -6.575|                         1.36|  Åland|\n|1745-03-01|            -4.195|                        1.213|  Åland|\n|1745-04-01|            -0.966|                        1.172|  Åland|\n|1750-01-01|             1.091|                        1.119|  Åland|\n|1750-02-01|             0.809|                        3.353|  Åland|\n|1750-03-01|             0.923|                        4.716|  Åland|\n|1750-04-01|             3.943|                        1.434|  Åland|\n|1750-05-01|             6.265|                        1.339|  Åland|\n|1750-06-01|            12.408|                        1.204|  Åland|\n|1750-07-01|            16.683|                        1.184|  Åland|\n+----------+------------------+-----------------------------+-------+\nonly showing top 20 rows\n\n"
     ]
    }
   ],
   "source": [
    "# Drop rows with any missing date values\n",
    "cleaned_data = cleaned_data.dropna(subset=[\"Date\"])\n",
    "cleaned_data.show()"
   ]
  },
  {
   "cell_type": "code",
   "execution_count": 0,
   "metadata": {
    "application/vnd.databricks.v1+cell": {
     "cellMetadata": {
      "byteLimit": 2048000,
      "rowLimit": 10000
     },
     "inputWidgets": {},
     "nuid": "768cdfa8-0930-412d-942c-7269a72700b2",
     "showTitle": false,
     "title": ""
    }
   },
   "outputs": [
    {
     "output_type": "stream",
     "name": "stdout",
     "output_type": "stream",
     "text": [
      "+----------+-------------------+-----------------------------+-------+\n|      Date| AverageTemperature|AverageTemperatureUncertainty|Country|\n+----------+-------------------+-----------------------------+-------+\n|1743-11-01| 4.3839999999999995|                        2.294|  Åland|\n|1744-04-01|               1.53|                         4.68|  Åland|\n|1744-05-01|  6.702000000000001|                        1.789|  Åland|\n|1744-06-01| 11.609000000000002|                        1.577|  Åland|\n|1744-07-01|             15.342|                         1.41|  Åland|\n|1744-09-01|             11.702|                        1.517|  Åland|\n|1744-10-01|              5.477|                        1.862|  Åland|\n|1744-11-01|              3.407|                        1.425|  Åland|\n|1744-12-01|             -2.181|                        1.641|  Åland|\n|1745-01-01|              -3.85|                        1.841|  Åland|\n|1745-02-01| -6.574999999999998|                         1.36|  Åland|\n|1745-03-01|             -4.195|                        1.213|  Åland|\n|1745-04-01|-0.9660000000000002|                        1.172|  Åland|\n|1750-01-01| 1.0910000000000006|                        1.119|  Åland|\n|1750-02-01| 0.8090000000000002|                        3.353|  Åland|\n|1750-03-01| 0.9229999999999999|                        4.716|  Åland|\n|1750-04-01|              3.943|           1.4340000000000002|  Åland|\n|1750-05-01| 6.2650000000000015|                        1.339|  Åland|\n|1750-06-01|             12.408|                        1.204|  Åland|\n|1750-07-01|             16.683|           1.1840000000000002|  Åland|\n+----------+-------------------+-----------------------------+-------+\nonly showing top 20 rows\n\n"
     ]
    }
   ],
   "source": [
    "# Remove rows with missing country values\n",
    "from pyspark.sql.functions import col\n",
    "cleaned_data = cleaned_data.filter(col(\"Country\").isNotNull())  \n",
    "cleaned_data.show()"
   ]
  },
  {
   "cell_type": "code",
   "execution_count": 0,
   "metadata": {
    "application/vnd.databricks.v1+cell": {
     "cellMetadata": {
      "byteLimit": 2048000,
      "rowLimit": 10000
     },
     "inputWidgets": {},
     "nuid": "8e8f15de-43d6-4ace-a737-644b9a978550",
     "showTitle": false,
     "title": ""
    }
   },
   "outputs": [
    {
     "output_type": "stream",
     "name": "stdout",
     "output_type": "stream",
     "text": [
      "+----------+------------------+-------+\n|      Date|AverageTemperature|Country|\n+----------+------------------+-------+\n|1743-11-01|             4.384|  Åland|\n|1744-04-01|              1.53|  Åland|\n|1744-05-01|             6.702|  Åland|\n|1744-06-01|            11.609|  Åland|\n|1744-07-01|            15.342|  Åland|\n|1744-09-01|            11.702|  Åland|\n|1744-10-01|             5.477|  Åland|\n|1744-11-01|             3.407|  Åland|\n|1744-12-01|            -2.181|  Åland|\n|1745-01-01|             -3.85|  Åland|\n|1745-02-01|            -6.575|  Åland|\n|1745-03-01|            -4.195|  Åland|\n|1745-04-01|            -0.966|  Åland|\n|1750-01-01|             1.091|  Åland|\n|1750-02-01|             0.809|  Åland|\n|1750-03-01|             0.923|  Åland|\n|1750-04-01|             3.943|  Åland|\n|1750-05-01|             6.265|  Åland|\n|1750-06-01|            12.408|  Åland|\n|1750-07-01|            16.683|  Åland|\n+----------+------------------+-------+\nonly showing top 20 rows\n\n"
     ]
    }
   ],
   "source": [
    "# Drop irrelevant columns\n",
    "cleaned_data = cleaned_data.drop(\"AverageTemperatureUncertainty\")\n",
    "cleaned_data.show()"
   ]
  },
  {
   "cell_type": "code",
   "execution_count": 0,
   "metadata": {
    "application/vnd.databricks.v1+cell": {
     "cellMetadata": {
      "byteLimit": 2048000,
      "rowLimit": 10000
     },
     "inputWidgets": {},
     "nuid": "17b18de4-8cc4-4ddb-bdb7-44ed8033ee16",
     "showTitle": false,
     "title": ""
    }
   },
   "outputs": [
    {
     "output_type": "stream",
     "name": "stdout",
     "output_type": "stream",
     "text": [
      "+----------+------------------+-------+\n|      Date|AverageTemperature|Country|\n+----------+------------------+-------+\n|1745-03-01|            -4.195|  Åland|\n|1750-02-01|             0.809|  Åland|\n|1743-11-01|             4.384|  Åland|\n|1750-08-01|            17.076|  Åland|\n|1750-05-01|             6.265|  Åland|\n|1744-12-01|            -2.181|  Åland|\n|1750-03-01|             0.923|  Åland|\n|1744-05-01|             6.702|  Åland|\n|1745-04-01|            -0.966|  Åland|\n|1744-10-01|             5.477|  Åland|\n|1750-07-01|            16.683|  Åland|\n|1744-11-01|             3.407|  Åland|\n|1750-01-01|             1.091|  Åland|\n|1744-04-01|              1.53|  Åland|\n|1744-06-01|            11.609|  Åland|\n|1750-06-01|            12.408|  Åland|\n|1744-07-01|            15.342|  Åland|\n|1745-02-01|            -6.575|  Åland|\n|1744-09-01|            11.702|  Åland|\n|1745-01-01|             -3.85|  Åland|\n+----------+------------------+-------+\nonly showing top 20 rows\n\n"
     ]
    }
   ],
   "source": [
    "# Remove Duplicates\n",
    "cleaned_data = cleaned_data.dropDuplicates()\n",
    "cleaned_data.show()"
   ]
  },
  {
   "cell_type": "code",
   "execution_count": 0,
   "metadata": {
    "application/vnd.databricks.v1+cell": {
     "cellMetadata": {
      "byteLimit": 2048000,
      "rowLimit": 10000
     },
     "inputWidgets": {},
     "nuid": "081fb576-91b9-4da5-ac74-456494a952ee",
     "showTitle": false,
     "title": ""
    }
   },
   "outputs": [
    {
     "output_type": "stream",
     "name": "stdout",
     "output_type": "stream",
     "text": [
      "+----------+------------------+-------+\n|      Date|AverageTemperature|Country|\n+----------+------------------+-------+\n|1745-03-01|              -4.2|  Åland|\n|1750-02-01|              0.81|  Åland|\n|1743-11-01|              4.38|  Åland|\n|1750-08-01|             17.08|  Åland|\n|1750-05-01|              6.27|  Åland|\n|1744-12-01|             -2.18|  Åland|\n|1750-03-01|              0.92|  Åland|\n|1744-05-01|               6.7|  Åland|\n|1745-04-01|             -0.97|  Åland|\n|1744-10-01|              5.48|  Åland|\n|1750-07-01|             16.68|  Åland|\n|1744-11-01|              3.41|  Åland|\n|1750-01-01|              1.09|  Åland|\n|1744-04-01|              1.53|  Åland|\n|1744-06-01|             11.61|  Åland|\n|1750-06-01|             12.41|  Åland|\n|1744-07-01|             15.34|  Åland|\n|1745-02-01|             -6.58|  Åland|\n|1744-09-01|              11.7|  Åland|\n|1745-01-01|             -3.85|  Åland|\n+----------+------------------+-------+\nonly showing top 20 rows\n\n"
     ]
    }
   ],
   "source": [
    "# Handle inconsistencies\n",
    "# Convert decimals to only 2 digits\n",
    "cleaned_data = cleaned_data.withColumn(\"AverageTemperature\", round((cleaned_data[\"AverageTemperature\"]),2))\n",
    "cleaned_data.show()"
   ]
  }
 ],
 "metadata": {
  "application/vnd.databricks.v1+notebook": {
   "dashboards": [],
   "language": "python",
   "notebookMetadata": {
    "pythonIndentUnit": 4
   },
   "notebookName": "Data Cleaning",
   "widgets": {}
  }
 },
 "nbformat": 4,
 "nbformat_minor": 0
}

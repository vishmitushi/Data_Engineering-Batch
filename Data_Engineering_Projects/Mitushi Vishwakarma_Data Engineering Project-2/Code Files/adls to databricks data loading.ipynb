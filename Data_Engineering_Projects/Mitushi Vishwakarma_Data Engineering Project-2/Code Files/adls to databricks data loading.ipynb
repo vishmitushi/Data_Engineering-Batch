{
 "cells": [
  {
   "cell_type": "code",
   "execution_count": 0,
   "metadata": {
    "application/vnd.databricks.v1+cell": {
     "cellMetadata": {
      "byteLimit": 2048000,
      "rowLimit": 10000
     },
     "inputWidgets": {},
     "nuid": "6d7b23c8-49d7-4057-8005-618cdc3fbb69",
     "showTitle": false,
     "title": ""
    }
   },
   "outputs": [
    {
     "output_type": "stream",
     "name": "stdout",
     "output_type": "stream",
     "text": [
      "+----------+-------------------+-----------------------------+-------+\n|      Date| AverageTemperature|AverageTemperatureUncertainty|Country|\n+----------+-------------------+-----------------------------+-------+\n|1743-11-01| 4.3839999999999995|                        2.294|  Åland|\n|1743-12-01|               NULL|                         NULL|  Åland|\n|1744-01-01|               NULL|                         NULL|  Åland|\n|1744-02-01|               NULL|                         NULL|  Åland|\n|1744-03-01|               NULL|                         NULL|  Åland|\n|1744-04-01|               1.53|                         4.68|  Åland|\n|1744-05-01|  6.702000000000001|                        1.789|  Åland|\n|1744-06-01| 11.609000000000002|                        1.577|  Åland|\n|1744-07-01|             15.342|                         1.41|  Åland|\n|1744-08-01|               NULL|                         NULL|  Åland|\n|1744-09-01|             11.702|                        1.517|  Åland|\n|1744-10-01|              5.477|                        1.862|  Åland|\n|1744-11-01|              3.407|                        1.425|  Åland|\n|1744-12-01|             -2.181|                        1.641|  Åland|\n|1745-01-01|              -3.85|                        1.841|  Åland|\n|1745-02-01| -6.574999999999998|                         1.36|  Åland|\n|1745-03-01|             -4.195|                        1.213|  Åland|\n|1745-04-01|-0.9660000000000002|                        1.172|  Åland|\n|1745-05-01|               NULL|                         NULL|  Åland|\n|1745-06-01|               NULL|                         NULL|  Åland|\n+----------+-------------------+-----------------------------+-------+\nonly showing top 20 rows\n\n"
     ]
    }
   ],
   "source": [
    "storage_account_name = \"adls1046project\"\n",
    "container_name = \"container\"\n",
    "file_name = \"GlobalLandTemperaturesByCountry.csv\"\n",
    "storage_account_access_key = \"KUKAhIfCYt/M/1Co79hLgWIsSzICBxQ7TJQ3s7DwtrO1gZWe/lRA0Rh43+Qmu1+PR31WfvqtRx6w+ASthC5Ofg==\"\n",
    "spark.conf.set(\"fs.azure.account.key.\" + storage_account_name + \".blob.core.windows.net\", storage_account_access_key)\n",
    "df = spark.read.format(\"csv\").load(f\"wasbs://{container_name}@{storage_account_name}.blob.core.windows.net/{file_name}\", inferSchema=True, header=True)\n",
    "df.show()"
   ]
  },
  {
   "cell_type": "code",
   "execution_count": 0,
   "metadata": {
    "application/vnd.databricks.v1+cell": {
     "cellMetadata": {
      "byteLimit": 2048000,
      "rowLimit": 10000
     },
     "inputWidgets": {},
     "nuid": "38225919-e421-46ed-bab8-722831302811",
     "showTitle": false,
     "title": ""
    }
   },
   "outputs": [
    {
     "output_type": "stream",
     "name": "stdout",
     "output_type": "stream",
     "text": [
      "root\n |-- Date: date (nullable = true)\n |-- AverageTemperature: double (nullable = true)\n |-- AverageTemperatureUncertainty: double (nullable = true)\n |-- Country: string (nullable = true)\n\n"
     ]
    }
   ],
   "source": [
    "df.printSchema()"
   ]
  },
  {
   "cell_type": "code",
   "execution_count": 0,
   "metadata": {
    "application/vnd.databricks.v1+cell": {
     "cellMetadata": {},
     "inputWidgets": {},
     "nuid": "2e2d6013-ce25-49d3-bcc4-0bb2d0ff68d9",
     "showTitle": false,
     "title": ""
    }
   },
   "outputs": [],
   "source": []
  }
 ],
 "metadata": {
  "application/vnd.databricks.v1+notebook": {
   "dashboards": [],
   "language": "python",
   "notebookMetadata": {
    "pythonIndentUnit": 4
   },
   "notebookName": "adls to databricks data loading",
   "widgets": {}
  }
 },
 "nbformat": 4,
 "nbformat_minor": 0
}
